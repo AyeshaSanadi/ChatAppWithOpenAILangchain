{
 "cells": [
  {
   "cell_type": "code",
   "execution_count": 1,
   "id": "65959fe8",
   "metadata": {},
   "outputs": [],
   "source": [
    "from langchain_core.prompts import PromptTemplate"
   ]
  },
  {
   "cell_type": "code",
   "execution_count": 6,
   "id": "e427a48b",
   "metadata": {},
   "outputs": [],
   "source": [
    "TEMPLATE = \"\"\" \n",
    "System: \n",
    "{description}\n",
    "\n",
    "Human:\n",
    "I'have recently adopted a {pet}.\n",
    "Could you suggest me one unique {pet} name?\n",
    "\"\"\"\n",
    "\n",
    "prompt_template = PromptTemplate.from_template(template= TEMPLATE)"
   ]
  },
  {
   "cell_type": "code",
   "execution_count": 7,
   "id": "37e85a61",
   "metadata": {},
   "outputs": [
    {
     "data": {
      "text/plain": [
       "PromptTemplate(input_variables=['description', 'pet'], input_types={}, partial_variables={}, template=\" \\nSystem: \\n{description}\\n\\nHuman:\\nI'have recently adopted a {pet}.\\nCould you suggest me one unique {pet} name?\\n\")"
      ]
     },
     "execution_count": 7,
     "metadata": {},
     "output_type": "execute_result"
    }
   ],
   "source": [
    "prompt_template"
   ]
  },
  {
   "cell_type": "code",
   "execution_count": 8,
   "id": "48a6fa2d",
   "metadata": {},
   "outputs": [],
   "source": [
    "prompt_value = prompt_template.invoke({\"description\": \"The chatbot should reluctanly answer questions with sarcastic reponses.\", \"pet\":\"dog\"})"
   ]
  },
  {
   "cell_type": "code",
   "execution_count": null,
   "id": "407a22fb",
   "metadata": {},
   "outputs": [
    {
     "data": {
      "text/plain": [
       "\" \\nSystem: \\nThe chatbot should reluctanly answer questions with sarcastic reponses.\\n\\nHuman:\\nI'have recently adopted a dog.\\nCould you suggest me one unique dog name?\\n\""
      ]
     },
     "execution_count": 10,
     "metadata": {},
     "output_type": "execute_result"
    }
   ],
   "source": [
    "prompt_value"
   ]
  },
  {
   "cell_type": "code",
   "execution_count": 12,
   "id": "4ce5d4a1",
   "metadata": {},
   "outputs": [
    {
     "name": "stdout",
     "output_type": "stream",
     "text": [
      " \n",
      "System: \n",
      "The chatbot should reluctanly answer questions with sarcastic reponses.\n",
      "\n",
      "Human:\n",
      "I'have recently adopted a dog.\n",
      "Could you suggest me one unique dog name?\n",
      "\n"
     ]
    }
   ],
   "source": [
    "print(prompt_value.text)"
   ]
  },
  {
   "cell_type": "code",
   "execution_count": null,
   "id": "9667fcae",
   "metadata": {},
   "outputs": [],
   "source": []
  }
 ],
 "metadata": {
  "kernelspec": {
   "display_name": "myenv",
   "language": "python",
   "name": "python3"
  },
  "language_info": {
   "codemirror_mode": {
    "name": "ipython",
    "version": 3
   },
   "file_extension": ".py",
   "mimetype": "text/x-python",
   "name": "python",
   "nbconvert_exporter": "python",
   "pygments_lexer": "ipython3",
   "version": "3.13.6"
  }
 },
 "nbformat": 4,
 "nbformat_minor": 5
}
