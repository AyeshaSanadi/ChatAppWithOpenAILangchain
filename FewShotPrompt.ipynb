{
 "cells": [
  {
   "cell_type": "code",
   "execution_count": 1,
   "id": "43e9eb88",
   "metadata": {},
   "outputs": [],
   "source": [
    "from dotenv import load_dotenv \n",
    "from langchain_openai.chat_models import ChatOpenAI\n",
    "from langchain_core.prompts import (ChatPromptTemplate, HumanMessagePromptTemplate, AIMessagePromptTemplate, FewShotChatMessagePromptTemplate)"
   ]
  },
  {
   "cell_type": "code",
   "execution_count": 2,
   "id": "dadaf90f",
   "metadata": {},
   "outputs": [
    {
     "data": {
      "text/plain": [
       "True"
      ]
     },
     "execution_count": 2,
     "metadata": {},
     "output_type": "execute_result"
    }
   ],
   "source": [
    "load_dotenv()"
   ]
  },
  {
   "cell_type": "code",
   "execution_count": 3,
   "id": "b2d11d28",
   "metadata": {},
   "outputs": [],
   "source": [
    "chat = ChatOpenAI(model=\"gpt-4\",\n",
    "                  seed=365,\n",
    "                  temperature = 0,\n",
    "                  max_tokens = 100)"
   ]
  },
  {
   "cell_type": "code",
   "execution_count": 4,
   "id": "3ee5eb96",
   "metadata": {},
   "outputs": [],
   "source": [
    "human_template = \"\"\"I'have recently adopted a {pet}.\n",
    "Could you suggest me one unique {pet} name?\"\"\"\n",
    "ai_template = \"{response}\" \n",
    "\n",
    "human_template_msg = HumanMessagePromptTemplate.from_template(template= human_template)\n",
    "ai_template_msg = AIMessagePromptTemplate.from_template(template= ai_template)\n"
   ]
  },
  {
   "cell_type": "code",
   "execution_count": 5,
   "id": "d48f821f",
   "metadata": {},
   "outputs": [],
   "source": [
    "example_template = ChatPromptTemplate.from_messages([human_template_msg, ai_template_msg])"
   ]
  },
  {
   "cell_type": "code",
   "execution_count": 6,
   "id": "9634451d",
   "metadata": {},
   "outputs": [],
   "source": [
    "examples =[\n",
    "    {\"pet\":\"dog\", \n",
    "     \"response\": \"Oh absolutely, bcaz nothing screams I'm a responsible pet owner like asking a chatbot to name your new fyrball. How about 'bark twain'?\"},\n",
    "     {\"pet\":\"cat\",\n",
    "     \"response\": \"Oh absolutely, bcaz nothing screams I'm a responsible pet owner like asking a chatbot to name your new cat. How about 'furry mcfuface'?\"},\n",
    "      ]"
   ]
  },
  {
   "cell_type": "code",
   "execution_count": 7,
   "id": "b1281eb0",
   "metadata": {},
   "outputs": [],
   "source": [
    "few_shot_prompt = FewShotChatMessagePromptTemplate(examples= examples, example_prompt= example_template)"
   ]
  },
  {
   "cell_type": "code",
   "execution_count": 8,
   "id": "f7d8f64c",
   "metadata": {},
   "outputs": [],
   "source": [
    "chat_template = ChatPromptTemplate.from_messages([few_shot_prompt, human_template_msg])"
   ]
  },
  {
   "cell_type": "code",
   "execution_count": 9,
   "id": "48971040",
   "metadata": {},
   "outputs": [],
   "source": [
    "chat_value = chat_template.invoke({\"pet\":\"rabbit\"})"
   ]
  },
  {
   "cell_type": "code",
   "execution_count": 10,
   "id": "8b19b05b",
   "metadata": {},
   "outputs": [
    {
     "data": {
      "text/plain": [
       "ChatPromptValue(messages=[HumanMessage(content=\"I'have recently adopted a dog.\\nCould you suggest me one unique dog name?\", additional_kwargs={}, response_metadata={}), AIMessage(content=\"Oh absolutely, bcaz nothing screams I'm a responsible pet owner like asking a chatbot to name your new fyrball. How about 'bark twain'?\", additional_kwargs={}, response_metadata={}), HumanMessage(content=\"I'have recently adopted a cat.\\nCould you suggest me one unique cat name?\", additional_kwargs={}, response_metadata={}), AIMessage(content=\"Oh absolutely, bcaz nothing screams I'm a responsible pet owner like asking a chatbot to name your new cat. How about 'furry mcfuface'?\", additional_kwargs={}, response_metadata={}), HumanMessage(content=\"I'have recently adopted a rabbit.\\nCould you suggest me one unique rabbit name?\", additional_kwargs={}, response_metadata={})])"
      ]
     },
     "execution_count": 10,
     "metadata": {},
     "output_type": "execute_result"
    }
   ],
   "source": [
    "chat_value"
   ]
  },
  {
   "cell_type": "code",
   "execution_count": 11,
   "id": "ffaac79b",
   "metadata": {},
   "outputs": [
    {
     "name": "stdout",
     "output_type": "stream",
     "text": [
      "human: I'have recently adopted a dog.\n",
      "Could you suggest me one unique dog name?\n",
      "\n",
      "ai: Oh absolutely, bcaz nothing screams I'm a responsible pet owner like asking a chatbot to name your new fyrball. How about 'bark twain'?\n",
      "\n",
      "human: I'have recently adopted a cat.\n",
      "Could you suggest me one unique cat name?\n",
      "\n",
      "ai: Oh absolutely, bcaz nothing screams I'm a responsible pet owner like asking a chatbot to name your new cat. How about 'furry mcfuface'?\n",
      "\n",
      "human: I'have recently adopted a rabbit.\n",
      "Could you suggest me one unique rabbit name?\n",
      "\n"
     ]
    }
   ],
   "source": [
    "for i in chat_value.messages:\n",
    "    print(f\"{i.type}: {i.content}\\n\")"
   ]
  },
  {
   "cell_type": "code",
   "execution_count": 12,
   "id": "19d0b3f1",
   "metadata": {},
   "outputs": [],
   "source": [
    "response = chat.invoke(chat_value)"
   ]
  },
  {
   "cell_type": "code",
   "execution_count": 13,
   "id": "eb3a4425",
   "metadata": {},
   "outputs": [
    {
     "data": {
      "text/plain": [
       "AIMessage(content='Of course! How about the name \"Hoppington Fluff\"?', additional_kwargs={'refusal': None}, response_metadata={'token_usage': {'completion_tokens': 14, 'prompt_tokens': 144, 'total_tokens': 158, 'completion_tokens_details': {'accepted_prediction_tokens': 0, 'audio_tokens': 0, 'reasoning_tokens': 0, 'rejected_prediction_tokens': 0}, 'prompt_tokens_details': {'audio_tokens': 0, 'cached_tokens': 0}}, 'model_name': 'gpt-4-0613', 'system_fingerprint': None, 'id': 'chatcmpl-C8N2dxTvSrWg7JWBPW8Oq4OagEKnm', 'service_tier': 'default', 'finish_reason': 'stop', 'logprobs': None}, id='run--03d2da18-7670-4273-99b8-17a4b9edc918-0', usage_metadata={'input_tokens': 144, 'output_tokens': 14, 'total_tokens': 158, 'input_token_details': {'audio': 0, 'cache_read': 0}, 'output_token_details': {'audio': 0, 'reasoning': 0}})"
      ]
     },
     "execution_count": 13,
     "metadata": {},
     "output_type": "execute_result"
    }
   ],
   "source": [
    "response"
   ]
  },
  {
   "cell_type": "code",
   "execution_count": null,
   "id": "13b5abf0",
   "metadata": {},
   "outputs": [],
   "source": []
  }
 ],
 "metadata": {
  "kernelspec": {
   "display_name": "myenv",
   "language": "python",
   "name": "python3"
  },
  "language_info": {
   "codemirror_mode": {
    "name": "ipython",
    "version": 3
   },
   "file_extension": ".py",
   "mimetype": "text/x-python",
   "name": "python",
   "nbconvert_exporter": "python",
   "pygments_lexer": "ipython3",
   "version": "3.10.16"
  }
 },
 "nbformat": 4,
 "nbformat_minor": 5
}
