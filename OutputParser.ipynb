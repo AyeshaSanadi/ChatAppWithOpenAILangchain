{
 "cells": [
  {
   "cell_type": "markdown",
   "id": "0cec3ed4",
   "metadata": {},
   "source": [
    "<!-- Converting chat output messages to string format -->"
   ]
  },
  {
   "cell_type": "code",
   "execution_count": 28,
   "id": "1c6df996",
   "metadata": {},
   "outputs": [],
   "source": [
    "import os\n",
    "from dotenv import load_dotenv\n",
    "from langchain_openai.chat_models import ChatOpenAI\n",
    "from langchain_core.messages import HumanMessage\n",
    "from langchain_core.output_parsers import StrOutputParser, CommaSeparatedListOutputParser\n",
    "from langchain.output_parsers import DatetimeOutputParser"
   ]
  },
  {
   "cell_type": "code",
   "execution_count": 7,
   "id": "333ca066",
   "metadata": {},
   "outputs": [
    {
     "data": {
      "text/plain": [
       "True"
      ]
     },
     "execution_count": 7,
     "metadata": {},
     "output_type": "execute_result"
    }
   ],
   "source": [
    "load_dotenv()"
   ]
  },
  {
   "cell_type": "code",
   "execution_count": 8,
   "id": "a02f5fa3",
   "metadata": {},
   "outputs": [],
   "source": [
    "chat = ChatOpenAI(model_name = \"gpt-4\", \n",
    "                  seed=365,\n",
    "                  temperature=0,\n",
    "                  max_completion_tokens=100)"
   ]
  },
  {
   "cell_type": "markdown",
   "id": "ec291223",
   "metadata": {},
   "source": [
    "eg: for string output parser"
   ]
  },
  {
   "cell_type": "code",
   "execution_count": 9,
   "id": "6afbfaf4",
   "metadata": {},
   "outputs": [],
   "source": [
    "human_msg = HumanMessage(\"Tell me a joke.\")"
   ]
  },
  {
   "cell_type": "code",
   "execution_count": 10,
   "id": "d8da521f",
   "metadata": {},
   "outputs": [],
   "source": [
    "str_parser = StrOutputParser()"
   ]
  },
  {
   "cell_type": "code",
   "execution_count": 11,
   "id": "7cce129d",
   "metadata": {},
   "outputs": [],
   "source": [
    "str_response = str_parser.invoke(chat.invoke([human_msg]))"
   ]
  },
  {
   "cell_type": "code",
   "execution_count": 12,
   "id": "a12bd151",
   "metadata": {},
   "outputs": [
    {
     "data": {
      "text/plain": [
       "\"Why don't scientists trust atoms?\\n\\nBecause they make up everything!\""
      ]
     },
     "execution_count": 12,
     "metadata": {},
     "output_type": "execute_result"
    }
   ],
   "source": [
    "str_response"
   ]
  },
  {
   "cell_type": "markdown",
   "id": "5a4950a1",
   "metadata": {},
   "source": [
    "eg: for comma-seprated list output parser"
   ]
  },
  {
   "cell_type": "code",
   "execution_count": 21,
   "id": "b9c25215",
   "metadata": {},
   "outputs": [],
   "source": [
    "human_msg = HumanMessage(content=f\"I am creating new app for job related. Suggest me 10 unique app names. {CommaSeparatedListOutputParser().get_format_instructions()}\")"
   ]
  },
  {
   "cell_type": "code",
   "execution_count": 22,
   "id": "dbbf788b",
   "metadata": {},
   "outputs": [
    {
     "data": {
      "text/plain": [
       "AIMessage(content='JobJunction, CareerClimb, WorkWise, EmployEase, JobJourney, HireHorizon, CareerCompass, WorkWorld, JobJet, HireHub', additional_kwargs={'refusal': None}, response_metadata={'token_usage': {'completion_tokens': 36, 'prompt_tokens': 53, 'total_tokens': 89, 'completion_tokens_details': {'accepted_prediction_tokens': 0, 'audio_tokens': 0, 'reasoning_tokens': 0, 'rejected_prediction_tokens': 0}, 'prompt_tokens_details': {'audio_tokens': 0, 'cached_tokens': 0}}, 'model_name': 'gpt-4-0613', 'system_fingerprint': None, 'id': 'chatcmpl-C8KYvEOK53RFwWgTuBgTDmADmHJ6P', 'service_tier': 'default', 'finish_reason': 'stop', 'logprobs': None}, id='run--a5845a9b-48b4-4e8f-9219-96fd1f69a0f9-0', usage_metadata={'input_tokens': 53, 'output_tokens': 36, 'total_tokens': 89, 'input_token_details': {'audio': 0, 'cache_read': 0}, 'output_token_details': {'audio': 0, 'reasoning': 0}})"
      ]
     },
     "execution_count": 22,
     "metadata": {},
     "output_type": "execute_result"
    }
   ],
   "source": [
    "response = chat.invoke([human_msg])\n",
    "response"
   ]
  },
  {
   "cell_type": "code",
   "execution_count": 23,
   "id": "f793a566",
   "metadata": {},
   "outputs": [
    {
     "data": {
      "text/plain": [
       "['JobJunction',\n",
       " 'CareerClimb',\n",
       " 'WorkWise',\n",
       " 'EmployEase',\n",
       " 'JobJourney',\n",
       " 'HireHorizon',\n",
       " 'CareerCompass',\n",
       " 'WorkWorld',\n",
       " 'JobJet',\n",
       " 'HireHub']"
      ]
     },
     "execution_count": 23,
     "metadata": {},
     "output_type": "execute_result"
    }
   ],
   "source": [
    "list_parser = CommaSeparatedListOutputParser()\n",
    "list_response = list_parser.invoke(response)\n",
    "list_response"
   ]
  },
  {
   "cell_type": "code",
   "execution_count": 19,
   "id": "15c29d14",
   "metadata": {},
   "outputs": [
    {
     "data": {
      "text/plain": [
       "'Your response should be a list of comma separated values, eg: `foo, bar, baz` or `foo,bar,baz`'"
      ]
     },
     "execution_count": 19,
     "metadata": {},
     "output_type": "execute_result"
    }
   ],
   "source": [
    "list_parser.get_format_instructions()"
   ]
  },
  {
   "cell_type": "markdown",
   "id": "1057dc2f",
   "metadata": {},
   "source": [
    "eg: for DateTime parser."
   ]
  },
  {
   "cell_type": "code",
   "execution_count": 34,
   "id": "194ee217",
   "metadata": {},
   "outputs": [],
   "source": [
    "human_msg = HumanMessage(content=f\"When was the A.P.J. Abdul Kalam born? {DatetimeOutputParser().get_format_instructions()}\")"
   ]
  },
  {
   "cell_type": "code",
   "execution_count": 35,
   "id": "165daee2",
   "metadata": {},
   "outputs": [
    {
     "data": {
      "text/plain": [
       "AIMessage(content='1931-10-15T00:00:00.000000Z', additional_kwargs={'refusal': None}, response_metadata={'token_usage': {'completion_tokens': 16, 'prompt_tokens': 109, 'total_tokens': 125, 'completion_tokens_details': {'accepted_prediction_tokens': 0, 'audio_tokens': 0, 'reasoning_tokens': 0, 'rejected_prediction_tokens': 0}, 'prompt_tokens_details': {'audio_tokens': 0, 'cached_tokens': 0}}, 'model_name': 'gpt-4-0613', 'system_fingerprint': None, 'id': 'chatcmpl-C8N1YSOSyHc9LZvo2YnoXlcPYovDH', 'service_tier': 'default', 'finish_reason': 'stop', 'logprobs': None}, id='run--2f86b012-ee80-4dc8-8cca-97e395c85da2-0', usage_metadata={'input_tokens': 109, 'output_tokens': 16, 'total_tokens': 125, 'input_token_details': {'audio': 0, 'cache_read': 0}, 'output_token_details': {'audio': 0, 'reasoning': 0}})"
      ]
     },
     "execution_count": 35,
     "metadata": {},
     "output_type": "execute_result"
    }
   ],
   "source": [
    "response = chat.invoke([human_msg])\n",
    "response"
   ]
  },
  {
   "cell_type": "code",
   "execution_count": 36,
   "id": "baae1df2",
   "metadata": {},
   "outputs": [],
   "source": [
    "date_response = DatetimeOutputParser()"
   ]
  },
  {
   "cell_type": "code",
   "execution_count": 37,
   "id": "5fefa3d0",
   "metadata": {},
   "outputs": [
    {
     "name": "stdout",
     "output_type": "stream",
     "text": [
      "1931-10-15 00:00:00\n"
     ]
    }
   ],
   "source": [
    "parsed_response = date_response.invoke(response)\n",
    "print(parsed_response)"
   ]
  },
  {
   "cell_type": "code",
   "execution_count": 33,
   "id": "cf40c12e",
   "metadata": {},
   "outputs": [
    {
     "data": {
      "text/plain": [
       "\"Write a datetime string that matches the following pattern: '%Y-%m-%dT%H:%M:%S.%fZ'.\\n\\nExamples: 2023-07-04T14:30:00.000000Z, 1999-12-31T23:59:59.999999Z, 2025-01-01T00:00:00.000000Z\\n\\nReturn ONLY this string, no other words!\""
      ]
     },
     "execution_count": 33,
     "metadata": {},
     "output_type": "execute_result"
    }
   ],
   "source": [
    "date_response.get_format_instructions()"
   ]
  },
  {
   "cell_type": "code",
   "execution_count": null,
   "id": "d0aa0437",
   "metadata": {},
   "outputs": [],
   "source": []
  }
 ],
 "metadata": {
  "kernelspec": {
   "display_name": "myenv",
   "language": "python",
   "name": "python3"
  },
  "language_info": {
   "codemirror_mode": {
    "name": "ipython",
    "version": 3
   },
   "file_extension": ".py",
   "mimetype": "text/x-python",
   "name": "python",
   "nbconvert_exporter": "python",
   "pygments_lexer": "ipython3",
   "version": "3.10.16"
  }
 },
 "nbformat": 4,
 "nbformat_minor": 5
}
