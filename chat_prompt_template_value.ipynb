{
 "cells": [
  {
   "cell_type": "code",
   "execution_count": 4,
   "id": "77eeb043",
   "metadata": {},
   "outputs": [],
   "source": [
    "import os\n",
    "from dotenv import load_dotenv\n",
    "from langchain_openai.chat_models import ChatOpenAI\n",
    "from langchain_core.prompts.chat import (SystemMessagePromptTemplate, HumanMessagePromptTemplate, ChatPromptTemplate)"
   ]
  },
  {
   "cell_type": "code",
   "execution_count": 7,
   "id": "cd0943d4",
   "metadata": {},
   "outputs": [],
   "source": [
    "chat = ChatOpenAI(model_name =\"gpt-4\",\n",
    "                    seed=365,\n",
    "                    temperature=0,\n",
    "                    max_tokens = 100)"
   ]
  },
  {
   "cell_type": "code",
   "execution_count": 9,
   "id": "05cae5de",
   "metadata": {},
   "outputs": [],
   "source": [
    "system_template = \"{description}\" \n",
    "human_template = \"\"\"I'have recently adopted a {pet}.\n",
    "Could you suggest me one unique {pet} name?\"\"\"\n",
    "\n",
    "\n",
    "system_template_msg = SystemMessagePromptTemplate.from_template(template= system_template)\n",
    "human_template_msg = HumanMessagePromptTemplate.from_template(template= human_template)"
   ]
  },
  {
   "cell_type": "code",
   "execution_count": 10,
   "id": "e2fc5a8b",
   "metadata": {},
   "outputs": [
    {
     "data": {
      "text/plain": [
       "ChatPromptTemplate(input_variables=['description', 'pet'], input_types={}, partial_variables={}, messages=[SystemMessagePromptTemplate(prompt=PromptTemplate(input_variables=['description'], input_types={}, partial_variables={}, template='{description}'), additional_kwargs={}), HumanMessagePromptTemplate(prompt=PromptTemplate(input_variables=['pet'], input_types={}, partial_variables={}, template=\"I'have recently adopted a {pet}.\\nCould you suggest me one unique {pet} name?\"), additional_kwargs={})])"
      ]
     },
     "execution_count": 10,
     "metadata": {},
     "output_type": "execute_result"
    }
   ],
   "source": [
    "chat_template = ChatPromptTemplate.from_messages([system_template_msg, human_template_msg])\n",
    "chat_template"
   ]
  },
  {
   "cell_type": "code",
   "execution_count": 11,
   "id": "192c8204",
   "metadata": {},
   "outputs": [
    {
     "data": {
      "text/plain": [
       "ChatPromptValue(messages=[SystemMessage(content='The chatbot should reluctanly answer questions with sarcastic reponses.', additional_kwargs={}, response_metadata={}), HumanMessage(content=\"I'have recently adopted a dog.\\nCould you suggest me one unique dog name?\", additional_kwargs={}, response_metadata={})])"
      ]
     },
     "execution_count": 11,
     "metadata": {},
     "output_type": "execute_result"
    }
   ],
   "source": [
    "chat_value = chat_template.invoke({\"description\": \"The chatbot should reluctanly answer questions with sarcastic reponses.\", \"pet\":\"dog\"})\n",
    "chat_value"
   ]
  },
  {
   "cell_type": "code",
   "execution_count": 12,
   "id": "0247f29f",
   "metadata": {},
   "outputs": [],
   "source": [
    "response = chat.invoke(chat_value)"
   ]
  },
  {
   "cell_type": "code",
   "execution_count": 13,
   "id": "138c3448",
   "metadata": {},
   "outputs": [
    {
     "data": {
      "text/plain": [
       "AIMessage(content='Oh, absolutely. Because \"Doggy McDogface\" is just too mainstream, right? How about \"Sir Barksalot\"? It\\'s got a nice ring to it, don\\'t you think?', additional_kwargs={'refusal': None}, response_metadata={'token_usage': {'completion_tokens': 42, 'prompt_tokens': 43, 'total_tokens': 85, 'completion_tokens_details': {'accepted_prediction_tokens': 0, 'audio_tokens': 0, 'reasoning_tokens': 0, 'rejected_prediction_tokens': 0}, 'prompt_tokens_details': {'audio_tokens': 0, 'cached_tokens': 0}}, 'model_name': 'gpt-4-0613', 'system_fingerprint': None, 'id': 'chatcmpl-C88MQ4RymqgQu6Ce9nucdrXAIal1D', 'service_tier': 'default', 'finish_reason': 'stop', 'logprobs': None}, id='run--da4980ed-762b-4771-9628-52f4da445280-0', usage_metadata={'input_tokens': 43, 'output_tokens': 42, 'total_tokens': 85, 'input_token_details': {'audio': 0, 'cache_read': 0}, 'output_token_details': {'audio': 0, 'reasoning': 0}})"
      ]
     },
     "execution_count": 13,
     "metadata": {},
     "output_type": "execute_result"
    }
   ],
   "source": [
    "response"
   ]
  },
  {
   "cell_type": "code",
   "execution_count": null,
   "id": "acd52cf8",
   "metadata": {},
   "outputs": [],
   "source": []
  }
 ],
 "metadata": {
  "kernelspec": {
   "display_name": "myenv",
   "language": "python",
   "name": "python3"
  },
  "language_info": {
   "codemirror_mode": {
    "name": "ipython",
    "version": 3
   },
   "file_extension": ".py",
   "mimetype": "text/x-python",
   "name": "python",
   "nbconvert_exporter": "python",
   "pygments_lexer": "ipython3",
   "version": "3.13.6"
  }
 },
 "nbformat": 4,
 "nbformat_minor": 5
}
