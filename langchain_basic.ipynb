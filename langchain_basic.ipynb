{
 "cells": [
  {
   "cell_type": "code",
   "execution_count": 2,
   "id": "b6c29d95",
   "metadata": {},
   "outputs": [
    {
     "name": "stdout",
     "output_type": "stream",
     "text": [
      "Note: you may need to restart the kernel to use updated packages.\n"
     ]
    }
   ],
   "source": [
    "%pip install -qU langchain-openai"
   ]
  },
  {
   "cell_type": "code",
   "execution_count": 3,
   "id": "da8884d1",
   "metadata": {},
   "outputs": [],
   "source": [
    "import os\n",
    "from dotenv import load_dotenv\n",
    "from langchain_openai.chat_models import ChatOpenAI"
   ]
  },
  {
   "cell_type": "code",
   "execution_count": 4,
   "id": "e80a17cb",
   "metadata": {},
   "outputs": [],
   "source": [
    "load_dotenv()\n",
    "\n",
    "api_key = os.getenv(\"OPENAI_API_KEY\")"
   ]
  },
  {
   "cell_type": "code",
   "execution_count": 12,
   "id": "a9d8852c",
   "metadata": {},
   "outputs": [
    {
     "name": "stderr",
     "output_type": "stream",
     "text": [
      "d:\\ChatbotUsingOpenAILangchain\\myenv\\Lib\\site-packages\\IPython\\core\\interactiveshell.py:3639: UserWarning: Parameters {'seed'} should be specified explicitly. Instead they were passed in as part of `model_kwargs` parameter.\n",
      "  if await self.run_code(code, result, async_=asy):\n"
     ]
    }
   ],
   "source": [
    "chat = ChatOpenAI(model_name = \"gpt-4\",\n",
    "                  model_kwargs={\"seed\":365},\n",
    "                  temperature=0, \n",
    "                  max_tokens=100)\n",
    "\n",
    "response = chat.invoke(\"I have recently adopted a dog. Could you suggest some dog name?\")"
   ]
  },
  {
   "cell_type": "code",
   "execution_count": 13,
   "id": "b49ed709",
   "metadata": {},
   "outputs": [
    {
     "name": "stdout",
     "output_type": "stream",
     "text": [
      "content='Sure, here are some suggestions:\\n\\nMale Dog Names:\\n1. Max\\n2. Charlie\\n3. Cooper\\n4. Buddy\\n5. Jack\\n6. Rocky\\n7. Duke\\n8. Bear\\n9. Zeus\\n10. Toby\\n\\nFemale Dog Names:\\n1. Bella\\n2. Lucy\\n3. Daisy\\n4. Luna\\n5. Lola\\n6. Sadie\\n7. Molly\\n8. Bailey\\n9. Stella\\n10. Maggie\\n\\nUnisex Dog Names' additional_kwargs={'refusal': None} response_metadata={'token_usage': {'completion_tokens': 100, 'prompt_tokens': 21, 'total_tokens': 121, 'completion_tokens_details': {'accepted_prediction_tokens': 0, 'audio_tokens': 0, 'reasoning_tokens': 0, 'rejected_prediction_tokens': 0}, 'prompt_tokens_details': {'audio_tokens': 0, 'cached_tokens': 0}}, 'model_name': 'gpt-4-0613', 'system_fingerprint': None, 'id': 'chatcmpl-C86AUav5WJneWqsn64ugudIFt2HCJ', 'service_tier': 'default', 'finish_reason': 'length', 'logprobs': None} id='run--3572acc4-ff9d-446a-997c-ab68d2691063-0' usage_metadata={'input_tokens': 21, 'output_tokens': 100, 'total_tokens': 121, 'input_token_details': {'audio': 0, 'cache_read': 0}, 'output_token_details': {'audio': 0, 'reasoning': 0}}\n"
     ]
    }
   ],
   "source": [
    "print(response)"
   ]
  },
  {
   "cell_type": "code",
   "execution_count": 14,
   "id": "573edda9",
   "metadata": {},
   "outputs": [
    {
     "name": "stdout",
     "output_type": "stream",
     "text": [
      "Sure, here are some suggestions:\n",
      "\n",
      "Male Dog Names:\n",
      "1. Max\n",
      "2. Charlie\n",
      "3. Cooper\n",
      "4. Buddy\n",
      "5. Jack\n",
      "6. Rocky\n",
      "7. Duke\n",
      "8. Bear\n",
      "9. Zeus\n",
      "10. Toby\n",
      "\n",
      "Female Dog Names:\n",
      "1. Bella\n",
      "2. Lucy\n",
      "3. Daisy\n",
      "4. Luna\n",
      "5. Lola\n",
      "6. Sadie\n",
      "7. Molly\n",
      "8. Bailey\n",
      "9. Stella\n",
      "10. Maggie\n",
      "\n",
      "Unisex Dog Names\n"
     ]
    }
   ],
   "source": [
    "print(response.content)"
   ]
  },
  {
   "cell_type": "code",
   "execution_count": 15,
   "id": "551ef4fe",
   "metadata": {},
   "outputs": [],
   "source": [
    "from langchain_core.messages import SystemMessage, HumanMessage"
   ]
  },
  {
   "cell_type": "code",
   "execution_count": 18,
   "id": "b8ecc7a4",
   "metadata": {},
   "outputs": [],
   "source": [
    "system_msg = SystemMessage(\"You explain things like a friendly science teacher to make them easy to understand.\")\n",
    "human_msg = HumanMessage(\"Why fan has 3 blades?\")"
   ]
  },
  {
   "cell_type": "code",
   "execution_count": 19,
   "id": "133847c5",
   "metadata": {},
   "outputs": [
    {
     "name": "stdout",
     "output_type": "stream",
     "text": [
      "The number of blades on a fan can vary depending on the design and purpose of the fan. However, many fans, especially ceiling fans, are designed with three blades for a few reasons:\n",
      "\n",
      "1. Efficiency: Three blades are often enough to circulate air effectively, and adding more blades would increase drag and decrease the fan's efficiency.\n",
      "\n",
      "2. Noise: More blades can also lead to more noise as each blade cuts through the air. Three blades strike a balance between effective air movement and noise control.\n",
      "\n",
      "\n"
     ]
    }
   ],
   "source": [
    "print(chat.invoke([human_msg]).content)"
   ]
  },
  {
   "cell_type": "code",
   "execution_count": 20,
   "id": "259c17aa",
   "metadata": {},
   "outputs": [],
   "source": [
    "from langchain_core.messages import HumanMessage, AIMessage"
   ]
  },
  {
   "cell_type": "code",
   "execution_count": 21,
   "id": "e590c299",
   "metadata": {},
   "outputs": [],
   "source": [
    "message_h_dog = HumanMessage(content = ''' I've recently adopted a dog. Can you suggest some dog names? ''')\n",
    "message_ai_dog = AIMessage(content = ''' Oh, absolutely. Because nothing screams \"I'm a responsible pet owner\" \n",
    "like asking a chatbot to name your new furball. How about \"Bark Twain\" (if it's a literary hound)? ''')\n",
    "\n",
    "message_h_cat = HumanMessage(content = ''' I've recently adopted a cat. Can you suggest some cat names? ''')\n",
    "message_ai_cat = AIMessage(content = ''' Oh, absolutely. Because nothing screams \"I'm a unique and creative individual\" \n",
    "like asking a chatbot to name your cat. How about \"Furry McFurFace\", \"Sir Meowsalot\", or \"Catastrophe\"? ''')\n",
    "\n",
    "message_h_fish = HumanMessage(content = ''' I've recently adopted a fish. Can you suggest some fish names? ''')"
   ]
  },
  {
   "cell_type": "code",
   "execution_count": 22,
   "id": "f1fb81d5",
   "metadata": {},
   "outputs": [],
   "source": [
    "response = chat.invoke([message_h_dog, message_ai_dog, message_h_cat, message_ai_cat, message_h_fish])"
   ]
  },
  {
   "cell_type": "code",
   "execution_count": 23,
   "id": "d2be0723",
   "metadata": {},
   "outputs": [
    {
     "name": "stdout",
     "output_type": "stream",
     "text": [
      "Of course! How about \"Finley\", \"Bubbles\", \"Sushi\", \"Nemo\", or \"Goldie\"?\n"
     ]
    }
   ],
   "source": [
    "print(response.content)"
   ]
  },
  {
   "cell_type": "code",
   "execution_count": null,
   "id": "88ab6233",
   "metadata": {},
   "outputs": [],
   "source": []
  }
 ],
 "metadata": {
  "kernelspec": {
   "display_name": "myenv",
   "language": "python",
   "name": "python3"
  },
  "language_info": {
   "codemirror_mode": {
    "name": "ipython",
    "version": 3
   },
   "file_extension": ".py",
   "mimetype": "text/x-python",
   "name": "python",
   "nbconvert_exporter": "python",
   "pygments_lexer": "ipython3",
   "version": "3.13.6"
  }
 },
 "nbformat": 4,
 "nbformat_minor": 5
}
