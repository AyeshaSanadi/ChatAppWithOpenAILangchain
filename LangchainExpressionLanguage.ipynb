{
 "cells": [
  {
   "cell_type": "code",
   "execution_count": 35,
   "id": "d65c3bdd",
   "metadata": {},
   "outputs": [],
   "source": [
    "from langchain_openai import ChatOpenAI\n",
    "from langchain_core.prompts import ChatPromptTemplate\n",
    "from langchain_core.output_parsers import CommaSeparatedListOutputParser, StrOutputParser"
   ]
  },
  {
   "cell_type": "code",
   "execution_count": 2,
   "id": "7a2389c9",
   "metadata": {},
   "outputs": [
    {
     "data": {
      "text/plain": [
       "'Your response should be a list of comma separated values, eg: `foo, bar, baz` or `foo,bar,baz`'"
      ]
     },
     "execution_count": 2,
     "metadata": {},
     "output_type": "execute_result"
    }
   ],
   "source": [
    "list_instructions = CommaSeparatedListOutputParser().get_format_instructions()\n",
    "list_instructions"
   ]
  },
  {
   "cell_type": "code",
   "execution_count": 9,
   "id": "0c2319aa",
   "metadata": {},
   "outputs": [
    {
     "data": {
      "text/plain": [
       "'I wanted a {flower_name} to decorate my room \\nYour response should be a list of comma separated values, eg: `foo, bar, baz` or `foo,bar,baz`'"
      ]
     },
     "execution_count": 9,
     "metadata": {},
     "output_type": "execute_result"
    }
   ],
   "source": [
    "chat_template = ChatPromptTemplate([(\"human\", \"I wanted a {flower_name} to decorate my room \\n\"+list_instructions)])\n",
    "chat_template.messages[0].prompt.template"
   ]
  },
  {
   "cell_type": "code",
   "execution_count": 10,
   "id": "e86e6ccf",
   "metadata": {},
   "outputs": [],
   "source": [
    "chat = ChatOpenAI(model=\"gpt-4\",\n",
    "                  seed=365,\n",
    "                  temperature = 0,\n",
    "                  max_tokens = 100)"
   ]
  },
  {
   "cell_type": "code",
   "execution_count": 11,
   "id": "c1290664",
   "metadata": {},
   "outputs": [],
   "source": [
    "list_parser = CommaSeparatedListOutputParser()"
   ]
  },
  {
   "cell_type": "code",
   "execution_count": 14,
   "id": "2a59d062",
   "metadata": {},
   "outputs": [],
   "source": [
    "chat_template_result = chat_template.invoke({\"flower_name\":\"rose\"})"
   ]
  },
  {
   "cell_type": "code",
   "execution_count": 15,
   "id": "239d65b1",
   "metadata": {},
   "outputs": [],
   "source": [
    "chat_result = chat.invoke(chat_template_result)"
   ]
  },
  {
   "cell_type": "code",
   "execution_count": 16,
   "id": "e314c0e1",
   "metadata": {},
   "outputs": [
    {
     "data": {
      "text/plain": [
       "['rose', 'vase', 'water', 'rose food', 'pruning shears', 'gloves']"
      ]
     },
     "execution_count": 16,
     "metadata": {},
     "output_type": "execute_result"
    }
   ],
   "source": [
    "list_parser.invoke(chat_result)"
   ]
  },
  {
   "cell_type": "markdown",
   "id": "06b19efa",
   "metadata": {},
   "source": [
    "using langchain expression language"
   ]
  },
  {
   "cell_type": "markdown",
   "id": "c5306d80",
   "metadata": {},
   "source": [
    "piped components to form chains"
   ]
  },
  {
   "cell_type": "code",
   "execution_count": null,
   "id": "3bdcfef6",
   "metadata": {},
   "outputs": [],
   "source": [
    "'''\n",
    "a. Uses a pipe symbol to connect components\n",
    "b. Connecting them means that the output of one will serve as the input to the next.\n",
    "c. We can apply the invoke() method to each component.'''\n",
    "chain = chat_template | chat | list_parser"
   ]
  },
  {
   "cell_type": "code",
   "execution_count": 18,
   "id": "e3cea542",
   "metadata": {},
   "outputs": [
    {
     "data": {
      "text/plain": [
       "['lili plant',\n",
       " 'lili flower vase',\n",
       " 'lili wall art',\n",
       " 'lili scented candle',\n",
       " 'lili patterned curtains',\n",
       " 'lili themed bedding',\n",
       " 'lili throw pillows',\n",
       " 'lili rug',\n",
       " 'lili wall clock',\n",
       " 'lili picture frame',\n",
       " 'lili lampshade']"
      ]
     },
     "execution_count": 18,
     "metadata": {},
     "output_type": "execute_result"
    }
   ],
   "source": [
    "chain.invoke({\"flower_name\":\"lili\"})"
   ]
  },
  {
   "cell_type": "markdown",
   "id": "a77f9b1f",
   "metadata": {},
   "source": [
    "Batching"
   ]
  },
  {
   "cell_type": "code",
   "execution_count": 20,
   "id": "c37b8ec7",
   "metadata": {},
   "outputs": [],
   "source": [
    "chat_template1 = ChatPromptTemplate.from_messages([\n",
    "    (\"human\", \"I have recently adopted a {pet} which is a {breed}. Could you suggest several training tips?\")\n",
    "])"
   ]
  },
  {
   "cell_type": "code",
   "execution_count": 21,
   "id": "3e07edfa",
   "metadata": {},
   "outputs": [],
   "source": [
    "chain = chat_template1 | chat"
   ]
  },
  {
   "cell_type": "code",
   "execution_count": 22,
   "id": "7d426acd",
   "metadata": {},
   "outputs": [
    {
     "data": {
      "text/plain": [
       "AIMessage(content=\"1. Start Training Early: Dobermans are intelligent and learn quickly, so it's best to start training them as soon as possible. \\n\\n2. Use Positive Reinforcement: Always reward your Doberman for good behavior. This can be in the form of treats, toys, praise, or extra playtime. \\n\\n3. Be Consistent: Consistency is key when training any dog. Make sure to use the same commands and signals each time, and ensure all family members are doing the same\", additional_kwargs={'refusal': None}, response_metadata={'token_usage': {'completion_tokens': 100, 'prompt_tokens': 26, 'total_tokens': 126, 'completion_tokens_details': {'accepted_prediction_tokens': 0, 'audio_tokens': 0, 'reasoning_tokens': 0, 'rejected_prediction_tokens': 0}, 'prompt_tokens_details': {'audio_tokens': 0, 'cached_tokens': 0}}, 'model_name': 'gpt-4-0613', 'system_fingerprint': None, 'id': 'chatcmpl-C8PT4oPXYhBc3uClqjFtEN01bL5hn', 'service_tier': 'default', 'finish_reason': 'length', 'logprobs': None}, id='run--8dfc3564-222c-43c1-a262-37bc4f627327-0', usage_metadata={'input_tokens': 26, 'output_tokens': 100, 'total_tokens': 126, 'input_token_details': {'audio': 0, 'cache_read': 0}, 'output_token_details': {'audio': 0, 'reasoning': 0}})"
      ]
     },
     "execution_count": 22,
     "metadata": {},
     "output_type": "execute_result"
    }
   ],
   "source": [
    "chain.invoke({\"pet\":\"dog\", \"breed\":\"doberman\"})"
   ]
  },
  {
   "cell_type": "code",
   "execution_count": 23,
   "id": "5f2f3a5c",
   "metadata": {},
   "outputs": [
    {
     "data": {
      "text/plain": [
       "[AIMessage(content='1. Start Early: The earlier you start training your Persian cat, the better. They are more likely to adapt to new behaviors when they are young.\\n\\n2. Use Positive Reinforcement: Always use positive reinforcement when training your Persian cat. This could be in the form of treats, praises, or petting. Never punish your cat as it can lead to fear and aggression.\\n\\n3. Litter Training: Persian cats are usually good with litter boxes. Make sure the litter box is easily accessible and', additional_kwargs={'refusal': None}, response_metadata={'token_usage': {'completion_tokens': 100, 'prompt_tokens': 25, 'total_tokens': 125, 'completion_tokens_details': {'accepted_prediction_tokens': 0, 'audio_tokens': 0, 'reasoning_tokens': 0, 'rejected_prediction_tokens': 0}, 'prompt_tokens_details': {'audio_tokens': 0, 'cached_tokens': 0}}, 'model_name': 'gpt-4-0613', 'system_fingerprint': None, 'id': 'chatcmpl-C8PYOaxHzi5OAFiI4wPKHrmvgR5XJ', 'service_tier': 'default', 'finish_reason': 'length', 'logprobs': None}, id='run--8a88ca51-4fe2-4872-adea-7d86f39efb70-0', usage_metadata={'input_tokens': 25, 'output_tokens': 100, 'total_tokens': 125, 'input_token_details': {'audio': 0, 'cache_read': 0}, 'output_token_details': {'audio': 0, 'reasoning': 0}}),\n",
       " AIMessage(content='Training a Valais Blacknose sheep, or any sheep for that matter, can be a rewarding experience. Here are some tips to help you get started:\\n\\n1. Start Early: The best time to start training your sheep is when they are young. This is when they are most receptive to learning new things.\\n\\n2. Positive Reinforcement: Always use positive reinforcement when training your sheep. This could be in the form of treats, praise, or petting. Never use negative reinforcement or punishment as', additional_kwargs={'refusal': None}, response_metadata={'token_usage': {'completion_tokens': 100, 'prompt_tokens': 29, 'total_tokens': 129, 'completion_tokens_details': {'accepted_prediction_tokens': 0, 'audio_tokens': 0, 'reasoning_tokens': 0, 'rejected_prediction_tokens': 0}, 'prompt_tokens_details': {'audio_tokens': 0, 'cached_tokens': 0}}, 'model_name': 'gpt-4-0613', 'system_fingerprint': None, 'id': 'chatcmpl-C8PYODTKEs1V5MKbCcQxFv7cGhiSh', 'service_tier': 'default', 'finish_reason': 'length', 'logprobs': None}, id='run--107880c0-f18d-4a2d-8772-f2d81d7bf267-0', usage_metadata={'input_tokens': 29, 'output_tokens': 100, 'total_tokens': 129, 'input_token_details': {'audio': 0, 'cache_read': 0}, 'output_token_details': {'audio': 0, 'reasoning': 0}})]"
      ]
     },
     "execution_count": 23,
     "metadata": {},
     "output_type": "execute_result"
    }
   ],
   "source": [
    "# the invoke() doesnt allow for feeding several inputs at once.\n",
    "# we need to write invoke() for no of input times\n",
    "# instead of this we can use batch() to runs invoke() parallel.\n",
    "# it takes less time as comparing to running several subsequant invoke() method.\n",
    "chain.batch([{\"pet\":\"cat\", \"breed\":\"Persian\"},{\"pet\":\"sheep\", \"breed\":\"Valais Blacknose\"}])"
   ]
  },
  {
   "cell_type": "markdown",
   "id": "6e21d477",
   "metadata": {},
   "source": [
    "Streaming"
   ]
  },
  {
   "cell_type": "code",
   "execution_count": 25,
   "id": "18a76a40",
   "metadata": {},
   "outputs": [
    {
     "data": {
      "text/plain": [
       "<generator object RunnableSequence.stream at 0x7f8c6fb8a490>"
      ]
     },
     "execution_count": 25,
     "metadata": {},
     "output_type": "execute_result"
    }
   ],
   "source": [
    "# This will return generator object\n",
    "response = chain.stream({\"pet\":\"cat\", \"breed\":\"Persian\"})\n",
    "response"
   ]
  },
  {
   "cell_type": "code",
   "execution_count": 28,
   "id": "9e59ce16",
   "metadata": {},
   "outputs": [
    {
     "name": "stdout",
     "output_type": "stream",
     "text": [
      "1. Start Early: The earlier you start training your Persian cat, the better. They are more likely to adapt to new behaviors when they are young.\n",
      "\n",
      "2. Use Positive Reinforcement: Always reward your cat for good behavior. This could be in the form of treats, praise, or petting. Never punish your cat as it can lead to fear and aggression.\n",
      "\n",
      "3. Litter Training: Persian cats are usually good with litter boxes. Make sure the litter box is easily accessible and clean it"
     ]
    }
   ],
   "source": [
    "for i in response:\n",
    "    print(i.content, end=\"\")"
   ]
  },
  {
   "cell_type": "markdown",
   "id": "fe73ed4a",
   "metadata": {},
   "source": [
    "Runnable and Runnable Sequence classes"
   ]
  },
  {
   "cell_type": "markdown",
   "id": "f80a81b8",
   "metadata": {},
   "source": [
    "Runnable => a unit of work that can be invoked, batched, streamed, transformed and composed."
   ]
  },
  {
   "cell_type": "code",
   "execution_count": 30,
   "id": "5ad7bf16",
   "metadata": {},
   "outputs": [
    {
     "data": {
      "text/plain": [
       "langchain_core.runnables.base.RunnableSequence"
      ]
     },
     "execution_count": 30,
     "metadata": {},
     "output_type": "execute_result"
    }
   ],
   "source": [
    "# sequence of runnable, where the output of each is the input of the next\n",
    "type(chain)"
   ]
  },
  {
   "cell_type": "markdown",
   "id": "715b22fb",
   "metadata": {},
   "source": [
    "piping chains and the RunnablePassthrough Class"
   ]
  },
  {
   "cell_type": "code",
   "execution_count": null,
   "id": "100aa766",
   "metadata": {},
   "outputs": [],
   "source": [
    "from langchain_core.runnables import RunnablePassthrough #langchain identity function"
   ]
  },
  {
   "cell_type": "code",
   "execution_count": 33,
   "id": "11b589d2",
   "metadata": {},
   "outputs": [
    {
     "data": {
      "text/plain": [
       "'hi'"
      ]
     },
     "execution_count": 33,
     "metadata": {},
     "output_type": "execute_result"
    }
   ],
   "source": [
    "RunnablePassthrough().invoke(\"hi\")"
   ]
  },
  {
   "cell_type": "markdown",
   "id": "d92827e5",
   "metadata": {},
   "source": [
    "pipeing chain together"
   ]
  },
  {
   "cell_type": "code",
   "execution_count": 37,
   "id": "08c56f16",
   "metadata": {},
   "outputs": [],
   "source": [
    "chat_template_tools = ChatPromptTemplate.from_template(\" what are the five most important tools a {job title} needs? Answer only by listing the tools.\")\n",
    "\n",
    "chat_template_strategy = ChatPromptTemplate.from_template(\"Considering the tools provided, develop a strategy for effectivly learning and mastering them: {tools}\")"
   ]
  },
  {
   "cell_type": "code",
   "execution_count": 38,
   "id": "2a2875b5",
   "metadata": {},
   "outputs": [],
   "source": [
    "str_parser = StrOutputParser()"
   ]
  },
  {
   "cell_type": "code",
   "execution_count": 49,
   "id": "79f5fef9",
   "metadata": {},
   "outputs": [],
   "source": [
    "chain_tools = chat_template_tools | chat | str_parser\n",
    "chain_strategy = chat_template_strategy | chat | str_parser"
   ]
  },
  {
   "cell_type": "code",
   "execution_count": 52,
   "id": "9887df25",
   "metadata": {},
   "outputs": [
    {
     "name": "stdout",
     "output_type": "stream",
     "text": [
      "1. Python\n",
      "2. R Programming Language\n",
      "3. SQL (Structured Query Language)\n",
      "4. Tableau\n",
      "5. Apache Hadoop\n"
     ]
    }
   ],
   "source": [
    "print(chain_tools.invoke({\"job title\": \"data scientist\"}))"
   ]
  },
  {
   "cell_type": "code",
   "execution_count": 53,
   "id": "8b5e960c",
   "metadata": {},
   "outputs": [
    {
     "data": {
      "text/plain": [
       "\"1. Python: Start with the basics of Python, such as variables, data types, loops, and functions. Use online resources like Codecademy, Coursera, or edX for structured learning. Practice coding problems on platforms like LeetCode or HackerRank. Work on small projects, like a simple game or a web scraper, to apply what you've learned. As you get more comfortable, delve into more complex topics like object-oriented programming and libraries for data analysis like pandas and NumPy\""
      ]
     },
     "execution_count": 53,
     "metadata": {},
     "output_type": "execute_result"
    }
   ],
   "source": [
    "chain_strategy.invoke({\"tools\": \"\"\"1. Python\n",
    "2. R Programming Language\n",
    "3. SQL (Structured Query Language)\n",
    "4. Tableau\n",
    "5. Apache Hadoop\"\"\"})"
   ]
  },
  {
   "cell_type": "markdown",
   "id": "b6c0d01a",
   "metadata": {},
   "source": [
    "make 2 chain to single chain using runnable passthrough"
   ]
  },
  {
   "cell_type": "markdown",
   "id": "e3bbf050",
   "metadata": {},
   "source": [
    "flow:\n",
    "{job title: scientist} -> chat_template_tools -> chat_prompt_value object -> chat -> AIMessage -> string parser -> result -> runnablepassthrough -> tools: as a output"
   ]
  },
  {
   "cell_type": "code",
   "execution_count": 54,
   "id": "35b9f628",
   "metadata": {},
   "outputs": [],
   "source": [
    "chain_tools = chat_template_tools | chat | str_parser | {\"tools\":RunnablePassthrough()}"
   ]
  },
  {
   "cell_type": "code",
   "execution_count": 55,
   "id": "393d0fb9",
   "metadata": {},
   "outputs": [
    {
     "name": "stdout",
     "output_type": "stream",
     "text": [
      "{'tools': '1. Python\\n2. R Programming Language\\n3. SQL (Structured Query Language)\\n4. Tableau\\n5. Hadoop'}\n"
     ]
    }
   ],
   "source": [
    "print(chain_tools.invoke({\"job title\": \"data scientist\"}))"
   ]
  },
  {
   "cell_type": "code",
   "execution_count": 56,
   "id": "3c7fa9b1",
   "metadata": {},
   "outputs": [],
   "source": [
    "chain_combined = chain_tools | chain_strategy"
   ]
  },
  {
   "cell_type": "code",
   "execution_count": 57,
   "id": "1654a3e3",
   "metadata": {},
   "outputs": [
    {
     "name": "stdout",
     "output_type": "stream",
     "text": [
      "1. Python: Start with the basics of Python, such as variables, data types, operators, control flow, and loops. Then, move on to more advanced topics like functions, classes, and exceptions. Use online resources like Codecademy, Coursera, or edX for structured learning. Practice coding problems on platforms like LeetCode or HackerRank. Work on small projects to apply what you've learned.\n",
      "\n",
      "2. R Programming Language: Begin with the basics of R, such as data\n"
     ]
    }
   ],
   "source": [
    "print(chain_combined.invoke({\"job title\": \"data scientist\"}))"
   ]
  },
  {
   "cell_type": "markdown",
   "id": "3cba2b40",
   "metadata": {},
   "source": [
    "Graphing runnables using grandalf"
   ]
  },
  {
   "cell_type": "code",
   "execution_count": 58,
   "id": "4297f3ec",
   "metadata": {},
   "outputs": [
    {
     "name": "stdout",
     "output_type": "stream",
     "text": [
      "     +-------------+       \n",
      "     | PromptInput |       \n",
      "     +-------------+       \n",
      "            *              \n",
      "            *              \n",
      "            *              \n",
      "  +--------------------+   \n",
      "  | ChatPromptTemplate |   \n",
      "  +--------------------+   \n",
      "            *              \n",
      "            *              \n",
      "            *              \n",
      "      +------------+       \n",
      "      | ChatOpenAI |       \n",
      "      +------------+       \n",
      "            *              \n",
      "            *              \n",
      "            *              \n",
      "   +-----------------+     \n",
      "   | StrOutputParser |     \n",
      "   +-----------------+     \n",
      "            *              \n",
      "            *              \n",
      "            *              \n",
      "+-----------------------+  \n",
      "| StrOutputParserOutput |  \n",
      "+-----------------------+  \n",
      "            *              \n",
      "            *              \n",
      "            *              \n",
      "     +-------------+       \n",
      "     | Passthrough |       \n",
      "     +-------------+       \n",
      "            *              \n",
      "            *              \n",
      "            *              \n",
      "  +--------------------+   \n",
      "  | ChatPromptTemplate |   \n",
      "  +--------------------+   \n",
      "            *              \n",
      "            *              \n",
      "            *              \n",
      "      +------------+       \n",
      "      | ChatOpenAI |       \n",
      "      +------------+       \n",
      "            *              \n",
      "            *              \n",
      "            *              \n",
      "   +-----------------+     \n",
      "   | StrOutputParser |     \n",
      "   +-----------------+     \n",
      "            *              \n",
      "            *              \n",
      "            *              \n",
      "+-----------------------+  \n",
      "| StrOutputParserOutput |  \n",
      "+-----------------------+  \n"
     ]
    }
   ],
   "source": [
    "chain_combined.get_graph().print_ascii()"
   ]
  },
  {
   "cell_type": "markdown",
   "id": "a694ce7a",
   "metadata": {},
   "source": [
    "Introduction to RunnableParallelClass"
   ]
  },
  {
   "cell_type": "code",
   "execution_count": 59,
   "id": "f526de8e",
   "metadata": {},
   "outputs": [],
   "source": [
    "from langchain_core.runnables import RunnableParallel"
   ]
  },
  {
   "cell_type": "code",
   "execution_count": 60,
   "id": "a7db701b",
   "metadata": {},
   "outputs": [],
   "source": [
    "chat_template_books = ChatPromptTemplate.from_template(\n",
    "    '''\n",
    "    Suggest three of the best intermediate-level {programming language} books. \n",
    "    Answer only by listing the books.\n",
    "    '''\n",
    ")\n",
    "\n",
    "chat_template_projects = ChatPromptTemplate.from_template(\n",
    "    '''\n",
    "    Suggest three interesting {programming language} projects suitable for intermediate-level programmers. \n",
    "    Answer only by listing the projects.\n",
    "    '''\n",
    ")"
   ]
  },
  {
   "cell_type": "code",
   "execution_count": 61,
   "id": "5b55a150",
   "metadata": {},
   "outputs": [],
   "source": [
    "chain_books = chat_template_books | chat | str_parser\n",
    "\n",
    "chain_projects = chat_template_projects | chat | str_parser"
   ]
  },
  {
   "cell_type": "code",
   "execution_count": 62,
   "id": "da799a2f",
   "metadata": {},
   "outputs": [],
   "source": [
    "chain_parallel = RunnableParallel({\"books\": chain_books, \"projects\":chain_projects})"
   ]
  },
  {
   "cell_type": "code",
   "execution_count": 65,
   "id": "316f971c",
   "metadata": {},
   "outputs": [
    {
     "data": {
      "text/plain": [
       "{'books': '1. \"Fluent Python: Clear, Concise, and Effective Programming\" by Luciano Ramalho\\n2. \"Python Cookbook: Recipes for Mastering Python 3\" by David Beazley and Brian K. Jones\\n3. \"Effective Python: 90 Specific Ways to Write Better Python\" by Brett Slatkin',\n",
       " 'projects': '1. Building a Weather Forecast Application using APIs.\\n2. Developing a Web Scraper for E-commerce Websites.\\n3. Creating a Personal Finance Tracker with Data Visualization.'}"
      ]
     },
     "execution_count": 65,
     "metadata": {},
     "output_type": "execute_result"
    }
   ],
   "source": [
    "chain_parallel.invoke({\"programming language\": \"python\"})"
   ]
  },
  {
   "cell_type": "code",
   "execution_count": 66,
   "id": "24a6cb73",
   "metadata": {},
   "outputs": [
    {
     "name": "stdout",
     "output_type": "stream",
     "text": [
      "            +-------------------------------+              \n",
      "            | Parallel<books,projects>Input |              \n",
      "            +-------------------------------+              \n",
      "                   ***               ***                   \n",
      "                ***                     ***                \n",
      "              **                           **              \n",
      "+--------------------+              +--------------------+ \n",
      "| ChatPromptTemplate |              | ChatPromptTemplate | \n",
      "+--------------------+              +--------------------+ \n",
      "           *                                   *           \n",
      "           *                                   *           \n",
      "           *                                   *           \n",
      "    +------------+                      +------------+     \n",
      "    | ChatOpenAI |                      | ChatOpenAI |     \n",
      "    +------------+                      +------------+     \n",
      "           *                                   *           \n",
      "           *                                   *           \n",
      "           *                                   *           \n",
      "  +-----------------+                 +-----------------+  \n",
      "  | StrOutputParser |                 | StrOutputParser |  \n",
      "  +-----------------+                 +-----------------+  \n",
      "                   ***               ***                   \n",
      "                      ***         ***                      \n",
      "                         **     **                         \n",
      "            +--------------------------------+             \n",
      "            | Parallel<books,projects>Output |             \n",
      "            +--------------------------------+             \n"
     ]
    }
   ],
   "source": [
    "chain_parallel.get_graph().print_ascii()"
   ]
  },
  {
   "cell_type": "markdown",
   "id": "f656fe8b",
   "metadata": {},
   "source": [
    "Piping the RunnableParallel with another Runnables"
   ]
  },
  {
   "cell_type": "code",
   "execution_count": 67,
   "id": "588440ce",
   "metadata": {},
   "outputs": [],
   "source": [
    "chat_template_time = ChatPromptTemplate.from_template(\n",
    "     '''\n",
    "     I'm an intermediate level programmer.\n",
    "     \n",
    "     Consider the following literature:\n",
    "     {books}\n",
    "     \n",
    "     Also, consider the following projects:\n",
    "     {projects}\n",
    "     \n",
    "     Roughly how much time would it take me to complete the literature and the projects?\n",
    "     \n",
    "     '''\n",
    ")"
   ]
  },
  {
   "cell_type": "code",
   "execution_count": 69,
   "id": "32c21570",
   "metadata": {},
   "outputs": [],
   "source": [
    "chain_time = (RunnableParallel({'books': chain_books, \"projects\":chain_projects})\n",
    "            | chat_template_time | chat | str_parser)"
   ]
  },
  {
   "cell_type": "code",
   "execution_count": 71,
   "id": "17ea895b",
   "metadata": {},
   "outputs": [
    {
     "data": {
      "text/plain": [
       "'The time it takes to complete the literature and the projects can vary greatly depending on several factors such as your current skill level, the amount of time you can dedicate each day, your reading speed, and how quickly you grasp new concepts.\\n\\nFor the literature:\\n\\n1. \"Fluent Python: Clear, Concise, and Effective Programming\" by Luciano Ramalho - This book is around 800 pages. If you read and practice for about 2 hours a day, it might take you around'"
      ]
     },
     "execution_count": 71,
     "metadata": {},
     "output_type": "execute_result"
    }
   ],
   "source": [
    "chain_time.invoke({\"programming language\":\"python\"})"
   ]
  },
  {
   "cell_type": "code",
   "execution_count": 72,
   "id": "93ee2ad3",
   "metadata": {},
   "outputs": [
    {
     "name": "stdout",
     "output_type": "stream",
     "text": [
      "            +-------------------------------+              \n",
      "            | Parallel<books,projects>Input |              \n",
      "            +-------------------------------+              \n",
      "                   ***               ***                   \n",
      "                ***                     ***                \n",
      "              **                           **              \n",
      "+--------------------+              +--------------------+ \n",
      "| ChatPromptTemplate |              | ChatPromptTemplate | \n",
      "+--------------------+              +--------------------+ \n",
      "           *                                   *           \n",
      "           *                                   *           \n",
      "           *                                   *           \n",
      "    +------------+                      +------------+     \n",
      "    | ChatOpenAI |                      | ChatOpenAI |     \n",
      "    +------------+                      +------------+     \n",
      "           *                                   *           \n",
      "           *                                   *           \n",
      "           *                                   *           \n",
      "  +-----------------+                 +-----------------+  \n",
      "  | StrOutputParser |                 | StrOutputParser |  \n",
      "  +-----------------+                 +-----------------+  \n",
      "                   ***               ***                   \n",
      "                      ***         ***                      \n",
      "                         **     **                         \n",
      "            +--------------------------------+             \n",
      "            | Parallel<books,projects>Output |             \n",
      "            +--------------------------------+             \n",
      "                             *                             \n",
      "                             *                             \n",
      "                             *                             \n",
      "                  +--------------------+                   \n",
      "                  | ChatPromptTemplate |                   \n",
      "                  +--------------------+                   \n",
      "                             *                             \n",
      "                             *                             \n",
      "                             *                             \n",
      "                      +------------+                       \n",
      "                      | ChatOpenAI |                       \n",
      "                      +------------+                       \n",
      "                             *                             \n",
      "                             *                             \n",
      "                             *                             \n",
      "                    +-----------------+                    \n",
      "                    | StrOutputParser |                    \n",
      "                    +-----------------+                    \n",
      "                             *                             \n",
      "                             *                             \n",
      "                             *                             \n",
      "                +-----------------------+                  \n",
      "                | StrOutputParserOutput |                  \n",
      "                +-----------------------+                  \n"
     ]
    }
   ],
   "source": [
    "chain_time.get_graph().print_ascii()"
   ]
  },
  {
   "cell_type": "markdown",
   "id": "a8448739",
   "metadata": {},
   "source": [
    "RunnableLambda"
   ]
  },
  {
   "cell_type": "code",
   "execution_count": null,
   "id": "2fc6cb5d",
   "metadata": {},
   "outputs": [
    {
     "data": {
      "text/plain": [
       "6"
      ]
     },
     "execution_count": 73,
     "metadata": {},
     "output_type": "execute_result"
    }
   ],
   "source": [
    "find_sum = lambda x:sum(x)\n",
    "find_sum([1,2,3])"
   ]
  },
  {
   "cell_type": "code",
   "execution_count": 78,
   "id": "6af9840d",
   "metadata": {},
   "outputs": [
    {
     "data": {
      "text/plain": [
       "576"
      ]
     },
     "execution_count": 78,
     "metadata": {},
     "output_type": "execute_result"
    }
   ],
   "source": [
    "find_squar= lambda x:x**2\n",
    "find_squar(24)"
   ]
  },
  {
   "cell_type": "code",
   "execution_count": 79,
   "id": "b6bff7f1",
   "metadata": {},
   "outputs": [],
   "source": [
    "from langchain_core.runnables import RunnableLambda"
   ]
  },
  {
   "cell_type": "code",
   "execution_count": 82,
   "id": "16e1c756",
   "metadata": {},
   "outputs": [
    {
     "data": {
      "text/plain": [
       "6"
      ]
     },
     "execution_count": 82,
     "metadata": {},
     "output_type": "execute_result"
    }
   ],
   "source": [
    "runnable_sum = RunnableLambda(lambda x : sum(x))\n",
    "runnable_sum.invoke([1,2,3])"
   ]
  },
  {
   "cell_type": "code",
   "execution_count": 83,
   "id": "e42db554",
   "metadata": {},
   "outputs": [
    {
     "data": {
      "text/plain": [
       "81"
      ]
     },
     "execution_count": 83,
     "metadata": {},
     "output_type": "execute_result"
    }
   ],
   "source": [
    "runnable_square = RunnableLambda(lambda x:x**2)\n",
    "runnable_square.invoke(9)"
   ]
  },
  {
   "cell_type": "code",
   "execution_count": 84,
   "id": "13cc5928",
   "metadata": {},
   "outputs": [],
   "source": [
    "chain = runnable_sum | runnable_square"
   ]
  },
  {
   "cell_type": "code",
   "execution_count": 85,
   "id": "88a8de8b",
   "metadata": {},
   "outputs": [
    {
     "data": {
      "text/plain": [
       "49"
      ]
     },
     "execution_count": 85,
     "metadata": {},
     "output_type": "execute_result"
    }
   ],
   "source": [
    "chain.invoke([1,2,4])"
   ]
  },
  {
   "cell_type": "code",
   "execution_count": 86,
   "id": "ecf0a29c",
   "metadata": {},
   "outputs": [
    {
     "name": "stdout",
     "output_type": "stream",
     "text": [
      "+-------------+  \n",
      "| LambdaInput |  \n",
      "+-------------+  \n",
      "        *        \n",
      "        *        \n",
      "        *        \n",
      "   +--------+    \n",
      "   | Lambda |    \n",
      "   +--------+    \n",
      "        *        \n",
      "        *        \n",
      "        *        \n",
      "   +--------+    \n",
      "   | Lambda |    \n",
      "   +--------+    \n",
      "        *        \n",
      "        *        \n",
      "        *        \n",
      "+--------------+ \n",
      "| LambdaOutput | \n",
      "+--------------+ \n"
     ]
    }
   ],
   "source": [
    "chain.get_graph().print_ascii()"
   ]
  },
  {
   "cell_type": "markdown",
   "id": "f825151a",
   "metadata": {},
   "source": [
    "The @chain Decorator"
   ]
  },
  {
   "cell_type": "code",
   "execution_count": 87,
   "id": "5f8e6a53",
   "metadata": {},
   "outputs": [],
   "source": [
    "def find_sum(x):\n",
    "    return sum(x)\n",
    "\n",
    "def find_square(x):\n",
    "    return x**2"
   ]
  },
  {
   "cell_type": "code",
   "execution_count": 91,
   "id": "601d02be",
   "metadata": {},
   "outputs": [],
   "source": [
    "chain1 = RunnableLambda(find_sum) | RunnableLambda(find_square) "
   ]
  },
  {
   "cell_type": "code",
   "execution_count": 92,
   "id": "f33cfee5",
   "metadata": {},
   "outputs": [
    {
     "data": {
      "text/plain": [
       "36"
      ]
     },
     "execution_count": 92,
     "metadata": {},
     "output_type": "execute_result"
    }
   ],
   "source": [
    "chain1.invoke([1,2,3])"
   ]
  },
  {
   "cell_type": "code",
   "execution_count": 94,
   "id": "e8aab1b2",
   "metadata": {},
   "outputs": [],
   "source": [
    "from langchain_core.runnables import chain"
   ]
  },
  {
   "cell_type": "code",
   "execution_count": 95,
   "id": "9c0b7f32",
   "metadata": {},
   "outputs": [],
   "source": [
    "@chain\n",
    "def runnable_sum(x):\n",
    "    return sum(x)\n",
    "\n",
    "@chain\n",
    "def runnable_square(x):\n",
    "    return x**2"
   ]
  },
  {
   "cell_type": "code",
   "execution_count": 96,
   "id": "45e495f6",
   "metadata": {},
   "outputs": [
    {
     "data": {
      "text/plain": [
       "(langchain_core.runnables.base.RunnableLambda,\n",
       " langchain_core.runnables.base.RunnableLambda)"
      ]
     },
     "execution_count": 96,
     "metadata": {},
     "output_type": "execute_result"
    }
   ],
   "source": [
    "type(runnable_square), type(runnable_sum)"
   ]
  },
  {
   "cell_type": "code",
   "execution_count": 97,
   "id": "52ea41c6",
   "metadata": {},
   "outputs": [],
   "source": [
    "chain2 = runnable_sum | runnable_square"
   ]
  },
  {
   "cell_type": "code",
   "execution_count": 98,
   "id": "b261fce4",
   "metadata": {},
   "outputs": [
    {
     "data": {
      "text/plain": [
       "36"
      ]
     },
     "execution_count": 98,
     "metadata": {},
     "output_type": "execute_result"
    }
   ],
   "source": [
    "chain2.invoke([1,2,3])"
   ]
  },
  {
   "cell_type": "code",
   "execution_count": null,
   "id": "510a82ba",
   "metadata": {},
   "outputs": [],
   "source": []
  }
 ],
 "metadata": {
  "kernelspec": {
   "display_name": "myenv",
   "language": "python",
   "name": "python3"
  },
  "language_info": {
   "codemirror_mode": {
    "name": "ipython",
    "version": 3
   },
   "file_extension": ".py",
   "mimetype": "text/x-python",
   "name": "python",
   "nbconvert_exporter": "python",
   "pygments_lexer": "ipython3",
   "version": "3.10.16"
  }
 },
 "nbformat": 4,
 "nbformat_minor": 5
}
