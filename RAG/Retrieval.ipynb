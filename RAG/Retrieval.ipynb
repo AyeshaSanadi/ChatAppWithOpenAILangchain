{
 "cells": [
  {
   "cell_type": "markdown",
   "id": "8be1f72f",
   "metadata": {},
   "source": [
    "Retrieval: Similarity search"
   ]
  },
  {
   "cell_type": "code",
   "execution_count": 3,
   "id": "65081eda",
   "metadata": {},
   "outputs": [],
   "source": [
    "from langchain_openai import OpenAIEmbeddings\n",
    "from langchain_chroma import Chroma\n",
    "from langchain_core.documents import Document"
   ]
  },
  {
   "cell_type": "code",
   "execution_count": 4,
   "id": "23d3fe08",
   "metadata": {},
   "outputs": [],
   "source": [
    "embedding = OpenAIEmbeddings(model = \"text-embedding-ada-002\")"
   ]
  },
  {
   "cell_type": "code",
   "execution_count": 5,
   "id": "8abd5e25",
   "metadata": {},
   "outputs": [],
   "source": [
    "vectorstore = Chroma(persist_directory=\"./database\", embedding_function=embedding)"
   ]
  },
  {
   "cell_type": "markdown",
   "id": "d0856de6",
   "metadata": {},
   "source": [
    "doc added to vectorstore"
   ]
  },
  {
   "cell_type": "code",
   "execution_count": 6,
   "id": "13bcc4e0",
   "metadata": {},
   "outputs": [],
   "source": [
    "added_document = Document(page_content='Alright! So… Let’s discuss the not-so-obvious differences between the terms analysis and analytics. Due to the similarity of the words, some people believe they share the same meaning, and thus use them interchangeably. Technically, this isn’t correct. There is, in fact, a distinct difference between the two. And the reason for one often being used instead of the other is the lack of a transparent understanding of both. So, let’s clear this up, shall we? First, we will start with analysis', \n",
    "                          metadata={'Course Title': 'Introduction to Data and Data Science', \n",
    "                                    'Lecture Title': 'Analysis vs Analytics'})"
   ]
  },
  {
   "cell_type": "code",
   "execution_count": 7,
   "id": "7c4d282e",
   "metadata": {},
   "outputs": [
    {
     "data": {
      "text/plain": [
       "['0edb5dc4-ee2e-42dc-88bc-831966a50e04']"
      ]
     },
     "execution_count": 7,
     "metadata": {},
     "output_type": "execute_result"
    }
   ],
   "source": [
    "vectorstore.add_documents([added_document])"
   ]
  },
  {
   "cell_type": "code",
   "execution_count": 8,
   "id": "bd092962",
   "metadata": {},
   "outputs": [],
   "source": [
    "que = \"What kind of programming languages data scientist use? \""
   ]
  },
  {
   "cell_type": "code",
   "execution_count": 9,
   "id": "8f6490c5",
   "metadata": {},
   "outputs": [],
   "source": [
    "retrived_docs = vectorstore.similarity_search(query=que, k=5)"
   ]
  },
  {
   "cell_type": "code",
   "execution_count": 10,
   "id": "bf9a4fb5",
   "metadata": {},
   "outputs": [
    {
     "name": "stdout",
     "output_type": "stream",
     "text": [
      "What about big data? Apart from R and Python, people working in this area are often proficient in other languages like Java or Scala. These two have not been developed specifically for doing statistical analyses, however they turn out to be very useful when combining data from multiple sources. All right! Let’s finish off with machine learning. When it comes to machine learning, we often deal with big data\n",
      "Thus, we need a lot of computational power, and we can expect people to use the languages similar to those in the big data column. Apart from R, Python, and MATLAB, other, faster languages are used like Java, JavaScript, C, C++, and Scala. Cool. What we said may be wonderful, but that’s not all! By using one or more programming languages, people create application software or, as they are sometimes called, software solutions, that are adjusted for specific business needs\n",
      "Alright! So… How are the techniques used in data, business intelligence, or predictive analytics applied in real life? Certainly, with the help of computers. You can basically split the relevant tools into two categories—programming languages and software. Knowing a programming language enables you to devise programs that can execute specific operations. Moreover, you can reuse these programs whenever you need to execute the same action\n",
      "As you can see from the infographic, R, and Python are the two most popular tools across all columns. Their biggest advantage is that they can manipulate data and are integrated within multiple data and data science software platforms. They are not just suitable for mathematical and statistical computations. In other words, R, and Python are adaptable. They can solve a wide variety of business and data-related problems from beginning to the end\n",
      "More importantly, it will be sufficient for your need to create quick and accurate analyses. However, if your theoretical preparation is strong enough, you will find yourself restricted by software. Knowing a programming language such as R and Python, gives you the freedom to create specific, ad-hoc tools for each project you are working on\n"
     ]
    }
   ],
   "source": [
    "for page in retrived_docs:\n",
    "    print(page.page_content)"
   ]
  },
  {
   "cell_type": "markdown",
   "id": "cf8e99bc",
   "metadata": {},
   "source": [
    "Retrieval: Maximal Marginal Relevance Search"
   ]
  },
  {
   "cell_type": "code",
   "execution_count": 13,
   "id": "f53d4748",
   "metadata": {},
   "outputs": [],
   "source": [
    "retrived_docs = vectorstore.max_marginal_relevance_search(query=que, k=5, lambda_mult=0.1, filter={\"Lecture Title\":\"Programming Languages & Software Employed in Data Science - All the Tools You Need\"})"
   ]
  },
  {
   "cell_type": "code",
   "execution_count": 14,
   "id": "24259f59",
   "metadata": {},
   "outputs": [
    {
     "name": "stdout",
     "output_type": "stream",
     "text": [
      "What about big data? Apart from R and Python, people working in this area are often proficient in other languages like Java or Scala. These two have not been developed specifically for doing statistical analyses, however they turn out to be very useful when combining data from multiple sources. All right! Let’s finish off with machine learning. When it comes to machine learning, we often deal with big data\n",
      "Great! We hope we gave you a good idea about the level of applicability of the most frequently used programming and software tools in the field of data science. Thank you for watching!\n",
      "It’s actually a software framework which was designed to address the complexity of big data and its computational intensity. Most notably, Hadoop distributes the computational tasks on multiple computers which is basically the way to handle big data nowadays. Power BI, SaS, Qlik, and especially Tableau are top-notch examples of software designed for business intelligence visualizations\n",
      "Their smaller scope does not make them less useful, in fact, just the opposite—they are a lot easier to learn and be adopted by others. You have already heard of several of those. Because of its ability to do relatively complex computations and good visualizations quickly, Excel is a tool applicable to more than one category—traditional data, BI, and Data Science. Similarly, SPSS is a very famous tool for working with traditional data and applying statistical analysis\n",
      "In terms of predictive analytics, EViews is mostly used for working with econometric time-series models, and Stata—for academic statistical and econometric research, where techniques like regression, cluster, and factor analysis are constantly applied. As a final note, remember the following. Should you have the relevant business and theoretical knowledge, learning a software tool is relatively easy as opposed to learning a programming language\n"
     ]
    }
   ],
   "source": [
    "for page in retrived_docs:\n",
    "    print(page.page_content)"
   ]
  },
  {
   "cell_type": "markdown",
   "id": "5b29df5f",
   "metadata": {},
   "source": [
    "Retrieval: Vectorstore Backend Retriever"
   ]
  },
  {
   "cell_type": "code",
   "execution_count": 15,
   "id": "9ad0b131",
   "metadata": {},
   "outputs": [
    {
     "data": {
      "text/plain": [
       "23"
      ]
     },
     "execution_count": 15,
     "metadata": {},
     "output_type": "execute_result"
    }
   ],
   "source": [
    "len(vectorstore.get()['documents'])"
   ]
  },
  {
   "cell_type": "code",
   "execution_count": 16,
   "id": "42d9aad5",
   "metadata": {},
   "outputs": [
    {
     "data": {
      "text/plain": [
       "VectorStoreRetriever(tags=['Chroma', 'OpenAIEmbeddings'], vectorstore=<langchain_chroma.vectorstores.Chroma object at 0x000002685CDBF0E0>, search_type='mmr', search_kwargs={'k': 3, 'lambda_mult': 0.7})"
      ]
     },
     "execution_count": 16,
     "metadata": {},
     "output_type": "execute_result"
    }
   ],
   "source": [
    "retriver = vectorstore.as_retriever(search_type = \"mmr\", search_kwargs={\"k\":3, \"lambda_mult\":0.7})\n",
    "retriver"
   ]
  },
  {
   "cell_type": "code",
   "execution_count": 17,
   "id": "f42da6a2",
   "metadata": {},
   "outputs": [],
   "source": [
    "que = \"what software do data scientist do?\""
   ]
  },
  {
   "cell_type": "code",
   "execution_count": 19,
   "id": "3e18448f",
   "metadata": {},
   "outputs": [
    {
     "data": {
      "text/plain": [
       "[Document(id='b213b4ef-043c-4f70-a51a-4546fd61ef8e', metadata={'Lecture Title': 'Programming Languages & Software Employed in Data Science - All the Tools You Need'}, page_content='Alright! So… How are the techniques used in data, business intelligence, or predictive analytics applied in real life? Certainly, with the help of computers. You can basically split the relevant tools into two categories—programming languages and software. Knowing a programming language enables you to devise programs that can execute specific operations. Moreover, you can reuse these programs whenever you need to execute the same action'),\n",
       " Document(id='7e98f2f5-e551-47ad-93e4-616ec668e475', metadata={'Lecture Title': 'Programming Languages & Software Employed in Data Science - All the Tools You Need'}, page_content='Among the many applications we have plotted, we can say there is an increasing amount of software designed for working with big data such as Apache Hadoop, Apache Hbase, and Mongo DB. In terms of big data, Hadoop is the name that must stick with you. Hadoop is listed as a software in the sense that it is a collection of programs, but don’t imagine it as a nice-looking application'),\n",
       " Document(id='c809340d-d42b-4e2d-8df8-9a55c2078082', metadata={'Lecture Title': 'Programming Languages & Software Employed in Data Science - All the Tools You Need'}, page_content='Great! We hope we gave you a good idea about the level of applicability of the most frequently used programming and software tools in the field of data science. Thank you for watching!')]"
      ]
     },
     "execution_count": 19,
     "metadata": {},
     "output_type": "execute_result"
    }
   ],
   "source": [
    "docs = retriver.invoke(que)\n",
    "docs"
   ]
  },
  {
   "cell_type": "code",
   "execution_count": 21,
   "id": "b54506f7",
   "metadata": {},
   "outputs": [
    {
     "name": "stdout",
     "output_type": "stream",
     "text": [
      "Alright! So… How are the techniques used in data, business intelligence, or predictive analytics applied in real life? Certainly, with the help of computers. You can basically split the relevant tools into two categories—programming languages and software. Knowing a programming language enables you to devise programs that can execute specific operations. Moreover, you can reuse these programs whenever you need to execute the same action---->\n",
      "Programming Languages & Software Employed in Data Science - All the Tools You Need\n",
      "\n",
      "Among the many applications we have plotted, we can say there is an increasing amount of software designed for working with big data such as Apache Hadoop, Apache Hbase, and Mongo DB. In terms of big data, Hadoop is the name that must stick with you. Hadoop is listed as a software in the sense that it is a collection of programs, but don’t imagine it as a nice-looking application---->\n",
      "Programming Languages & Software Employed in Data Science - All the Tools You Need\n",
      "\n",
      "Great! We hope we gave you a good idea about the level of applicability of the most frequently used programming and software tools in the field of data science. Thank you for watching!---->\n",
      "Programming Languages & Software Employed in Data Science - All the Tools You Need\n",
      "\n"
     ]
    }
   ],
   "source": [
    "for i in docs:\n",
    "    print(f\"{i.page_content}---->\\n{i.metadata[\"Lecture Title\"]}\\n\")"
   ]
  },
  {
   "cell_type": "code",
   "execution_count": null,
   "id": "0cb2c178",
   "metadata": {},
   "outputs": [],
   "source": []
  }
 ],
 "metadata": {
  "kernelspec": {
   "display_name": "myenv",
   "language": "python",
   "name": "python3"
  },
  "language_info": {
   "codemirror_mode": {
    "name": "ipython",
    "version": 3
   },
   "file_extension": ".py",
   "mimetype": "text/x-python",
   "name": "python",
   "nbconvert_exporter": "python",
   "pygments_lexer": "ipython3",
   "version": "3.13.6"
  }
 },
 "nbformat": 4,
 "nbformat_minor": 5
}
