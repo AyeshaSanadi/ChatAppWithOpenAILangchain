{
 "cells": [
  {
   "cell_type": "code",
   "execution_count": null,
   "id": "34f4c0ec",
   "metadata": {},
   "outputs": [],
   "source": [
    "from langchain_openai.embeddings import OpenAIEmbeddings\n",
    "from langchain_core.prompts import PromptTemplate\n",
    "from langchain_chroma import Chroma\n",
    "from langchain_openai import ChatOpenAI\n",
    "from langchain_core.runnables import RunnableParallel, RunnablePassthrough\n",
    "from langchain_core.output_parsers import StrOutputParser"
   ]
  },
  {
   "cell_type": "code",
   "execution_count": 5,
   "id": "466e996f",
   "metadata": {},
   "outputs": [],
   "source": [
    "vectorstore = Chroma(persist_directory=\"./database\", embedding_function=OpenAIEmbeddings(model=\"text-embedding-ada-002\"))"
   ]
  },
  {
   "cell_type": "code",
   "execution_count": 6,
   "id": "b54562eb",
   "metadata": {},
   "outputs": [
    {
     "data": {
      "text/plain": [
       "23"
      ]
     },
     "execution_count": 6,
     "metadata": {},
     "output_type": "execute_result"
    }
   ],
   "source": [
    "len(vectorstore.get()['documents'])"
   ]
  },
  {
   "cell_type": "code",
   "execution_count": 7,
   "id": "1402ffd6",
   "metadata": {},
   "outputs": [],
   "source": [
    "retriever = vectorstore.as_retriever(search_type=\"mmr\", search_kwargs={\"k\":3, \"lambda_mult\":0.7})"
   ]
  },
  {
   "cell_type": "code",
   "execution_count": 8,
   "id": "12be9697",
   "metadata": {},
   "outputs": [],
   "source": [
    "TEMPLATE = '''\n",
    "Answer the following question:\n",
    "{question}\n",
    "\n",
    "To answer the question, use only the following context:\n",
    "{context}\n",
    "\n",
    "At the end of the response, specify the name of the lecture this context is taken from in the format:\n",
    "Resources: *Lecture Title*\n",
    "where *Lecture Title* should be substituted with the title of all resource lectures.\n",
    "'''\n",
    "\n",
    "prompt_template = PromptTemplate.from_template(TEMPLATE)"
   ]
  },
  {
   "cell_type": "code",
   "execution_count": 10,
   "id": "8700385b",
   "metadata": {},
   "outputs": [],
   "source": [
    "chat = ChatOpenAI(model_name = 'gpt-4', \n",
    "                  seed=365,\n",
    "                  max_tokens = 250)"
   ]
  },
  {
   "cell_type": "code",
   "execution_count": 17,
   "id": "22023d48",
   "metadata": {},
   "outputs": [],
   "source": [
    "question = \"What software do data scientist use?\""
   ]
  },
  {
   "cell_type": "code",
   "execution_count": 26,
   "id": "fe1d638c",
   "metadata": {},
   "outputs": [],
   "source": [
    "chain = {'context':retriever,\n",
    "         'question':RunnablePassthrough()} | prompt_template | chat | StrOutputParser()\n",
    "respone = chain.invoke(question)"
   ]
  },
  {
   "cell_type": "code",
   "execution_count": 28,
   "id": "c250fc5d",
   "metadata": {},
   "outputs": [
    {
     "data": {
      "text/plain": [
       "'Data scientists use a variety of programming languages and software for their work. R and Python are the most popular tools because they can manipulate data and are integrated within multiple data and data science software platforms. They can solve a wide variety of business and data-related problems. Another important software is Hadoop, which is a software framework designed to handle big data by distributing the computational tasks on multiple computers. Furthermore, software like Power BI, SaS, Qlik, and Tableau are excellent choices for business intelligence visualizations.\\n\\nResources: Programming Languages & Software Employed in Data Science - All the Tools You Need'"
      ]
     },
     "execution_count": 28,
     "metadata": {},
     "output_type": "execute_result"
    }
   ],
   "source": [
    "respone"
   ]
  },
  {
   "cell_type": "code",
   "execution_count": null,
   "id": "17f4c86a",
   "metadata": {},
   "outputs": [],
   "source": []
  }
 ],
 "metadata": {
  "kernelspec": {
   "display_name": "myenv",
   "language": "python",
   "name": "python3"
  },
  "language_info": {
   "codemirror_mode": {
    "name": "ipython",
    "version": 3
   },
   "file_extension": ".py",
   "mimetype": "text/x-python",
   "name": "python",
   "nbconvert_exporter": "python",
   "pygments_lexer": "ipython3",
   "version": "3.13.6"
  }
 },
 "nbformat": 4,
 "nbformat_minor": 5
}
