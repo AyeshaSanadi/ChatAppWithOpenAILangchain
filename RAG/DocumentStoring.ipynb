{
 "cells": [
  {
   "cell_type": "markdown",
   "id": "58a4e0a0",
   "metadata": {},
   "source": [
    "Indexing: Text Embedding and storing it inside vector store"
   ]
  },
  {
   "cell_type": "code",
   "execution_count": 12,
   "id": "7e7c8876",
   "metadata": {},
   "outputs": [],
   "source": [
    "from langchain_community.document_loaders import Docx2txtLoader\n",
    "from langchain_text_splitters.markdown import MarkdownHeaderTextSplitter\n",
    "from langchain_text_splitters.character import CharacterTextSplitter\n",
    "from langchain_openai.embeddings import OpenAIEmbeddings\n",
    "from langchain_community.vectorstores import Chroma"
   ]
  },
  {
   "cell_type": "code",
   "execution_count": 13,
   "id": "57c8c213",
   "metadata": {},
   "outputs": [],
   "source": [
    "docs_loader = Docx2txtLoader(\"Introduction_to_Data_and_Data_Science2.docx\")\n",
    "pages = docs_loader.load()\n",
    "\n",
    "md_splitter = MarkdownHeaderTextSplitter(headers_to_split_on=[(\"#\",\"Course title\"), (\"##\", \"Lecture Title\")])\n",
    "md_pages = md_splitter.split_text(pages[0].page_content)\n",
    "\n",
    "for i in range(len(md_pages)):\n",
    "    md_pages[i].page_content = \" \".join(md_pages[i].page_content.split())\n",
    "\n",
    "char_split = CharacterTextSplitter(separator=\".\", chunk_size=500, chunk_overlap=50)\n",
    "\n",
    "pages_char_split = char_split.split_documents(md_pages)"
   ]
  },
  {
   "cell_type": "code",
   "execution_count": 8,
   "id": "869e7800",
   "metadata": {},
   "outputs": [
    {
     "data": {
      "text/plain": [
       "21"
      ]
     },
     "execution_count": 8,
     "metadata": {},
     "output_type": "execute_result"
    }
   ],
   "source": [
    "len(pages_char_split)"
   ]
  },
  {
   "cell_type": "code",
   "execution_count": 9,
   "id": "33c7b1db",
   "metadata": {},
   "outputs": [],
   "source": [
    "embedding = OpenAIEmbeddings(model = \"text-embedding-ada-002\")"
   ]
  },
  {
   "cell_type": "code",
   "execution_count": 14,
   "id": "237eae34",
   "metadata": {},
   "outputs": [],
   "source": [
    "# we will using a vectorstore and embed all documets simultaneously.\n",
    "vectorstore = Chroma.from_documents(documents=pages_char_split, embedding=embedding, persist_directory=\"./database\")"
   ]
  }
 ],
 "metadata": {
  "kernelspec": {
   "display_name": "myenv",
   "language": "python",
   "name": "python3"
  },
  "language_info": {
   "codemirror_mode": {
    "name": "ipython",
    "version": 3
   },
   "file_extension": ".py",
   "mimetype": "text/x-python",
   "name": "python",
   "nbconvert_exporter": "python",
   "pygments_lexer": "ipython3",
   "version": "3.10.16"
  }
 },
 "nbformat": 4,
 "nbformat_minor": 5
}
