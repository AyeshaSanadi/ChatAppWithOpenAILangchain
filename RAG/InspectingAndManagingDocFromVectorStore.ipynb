{
 "cells": [
  {
   "cell_type": "markdown",
   "id": "8be1f72f",
   "metadata": {},
   "source": [
    "Indexing: Inspecting And Managing Doc From VectorStore"
   ]
  },
  {
   "cell_type": "code",
   "execution_count": 7,
   "id": "65081eda",
   "metadata": {},
   "outputs": [],
   "source": [
    "from langchain_openai import OpenAIEmbeddings\n",
    "from langchain_chroma import Chroma\n",
    "from langchain_core.documents import Document"
   ]
  },
  {
   "cell_type": "code",
   "execution_count": 8,
   "id": "23d3fe08",
   "metadata": {},
   "outputs": [],
   "source": [
    "embedding = OpenAIEmbeddings(model = \"text-embedding-ada-002\")"
   ]
  },
  {
   "cell_type": "code",
   "execution_count": 9,
   "id": "8abd5e25",
   "metadata": {},
   "outputs": [],
   "source": [
    "vector_store_from_dir = Chroma(persist_directory=\"./database\", embedding_function=embedding)"
   ]
  },
  {
   "cell_type": "code",
   "execution_count": 12,
   "id": "ff5f67c3",
   "metadata": {},
   "outputs": [
    {
     "data": {
      "text/plain": [
       "{'ids': ['a1d179ed-70bf-4956-b6b0-34c938f5325c',\n",
       "  'b68ae137-4cee-4c38-84bb-a8147aeb0906',\n",
       "  'eb519663-a3c9-4cb1-89e1-c3510ce9c36d',\n",
       "  '7b1bc15b-e03c-409c-87b2-51d22c842ce9',\n",
       "  '44a1d1f5-037e-4900-9bf9-cc4a0feac989',\n",
       "  'baba3d42-1964-46c7-8f43-4b499e41a63e',\n",
       "  'b62d3b70-7e53-416c-a33a-7807a8d9288e',\n",
       "  'adf2c2c0-b0f2-49c9-a779-be93b6ba38cc',\n",
       "  'b213b4ef-043c-4f70-a51a-4546fd61ef8e',\n",
       "  '3b613a83-d48f-454e-b6a4-d396dbb5543c',\n",
       "  'bd32c939-7c55-46e6-b049-7e77ca9feab6',\n",
       "  '9061b3f8-e508-4703-b8a9-f40ec25ed55c',\n",
       "  '7ab63f7e-c2af-4594-b1fc-e53d11b8c13c',\n",
       "  'bbb17625-e26e-4ee9-8bb3-41b7c90d3d82',\n",
       "  '846add44-7ebd-431d-bafb-05826a65eccf',\n",
       "  '7e98f2f5-e551-47ad-93e4-616ec668e475',\n",
       "  '098b8488-b5f3-4381-9043-3fb95b73ebca',\n",
       "  '1e8d70e1-4a14-4145-a248-f0c7a51ffffc',\n",
       "  'a2d295f3-bcbf-4eb6-9d7f-dfba924fc0fe',\n",
       "  'c809340d-d42b-4e2d-8df8-9a55c2078082',\n",
       "  'd47dae5f-4fe9-4cd8-8617-f2e55bfda923'],\n",
       " 'embeddings': None,\n",
       " 'documents': ['Alright! So… Let’s discuss the not-so-obvious differences between the terms analysis and analytics. Due to the similarity of the words, some people believe they share the same meaning, and thus use them interchangeably. Technically, this isn’t correct. There is, in fact, a distinct difference between the two. And the reason for one often being used instead of the other is the lack of a transparent understanding of both. So, let’s clear this up, shall we? First, we will start with analysis',\n",
       "  'Consider the following… You have a huge dataset containing data of various types. Instead of tackling the entire dataset and running the risk of becoming overwhelmed, you separate it into easier to digest chunks and study them individually and examine how they relate to other parts. And that’s analysis in a nutshell. One important thing to remember, however, is that you perform analyses on things that have already happened in the past',\n",
       "  'Such as using an analysis to explain how a story ended the way it did or how there was a decrease in sales last summer. All this means that we do analyses to explain how and/or why something happened. Great! Now, this leads us nicely on to the definition of analytics. As you have probably guessed, analytics generally refers to the future. Instead of explaining past events it explores potential future ones',\n",
       "  'Analytics is essentially the application of logical and computational reasoning to the component parts obtained in an analysis. And in doing this you are looking for patterns and exploring what you could do with them in the future. Here, analytics branches off into two areas: qualitative analytics – this is using your intuition and experience in conjunction with the analysis to plan your next business move',\n",
       "  \"And quantitative analytics – this is applying formulas and algorithms to numbers you have gathered from your analysis. Here are a couple of examples. Say, you are an owner of an online clothing store. You are ahead of the competition and have a great understanding of what your customer's needs and wants are. You’ve performed a very detailed analysis from women’s clothing articles and feel sure about which fashion trends to follow\",\n",
       "  'You may use this intuition to decide on which styles of clothing to start selling. This would be qualitative analytics. But you might not know when to introduce the new collection. In that case, relying on past sales data and user experience data, you could predict in which month it would be best to do that. This is an example of using quantitative analytics',\n",
       "  'Fantastic! To backtrack a little, you can combine these areas with analyses also – you could perform qualitative analysis – to explain how or why a story ended the way it did. And you can perform quantitative analysis – working with past data to explain how sales decreased last summer',\n",
       "  'Perfect! Now that we have cleared up the differences between analysis and analytics it shouldn’t be too difficult to see how terms such as ‘data analysis’, ‘data analytics’, ‘business analysis’ and ‘business analytics’ can have their unique meanings too. More of this will be explained in the next video which aims to simplify these, as well as many more with a fantastic diagram. So, let’s move on!',\n",
       "  'Alright! So… How are the techniques used in data, business intelligence, or predictive analytics applied in real life? Certainly, with the help of computers. You can basically split the relevant tools into two categories—programming languages and software. Knowing a programming language enables you to devise programs that can execute specific operations. Moreover, you can reuse these programs whenever you need to execute the same action',\n",
       "  'As you can see from the infographic, R, and Python are the two most popular tools across all columns. Their biggest advantage is that they can manipulate data and are integrated within multiple data and data science software platforms. They are not just suitable for mathematical and statistical computations. In other words, R, and Python are adaptable. They can solve a wide variety of business and data-related problems from beginning to the end',\n",
       "  'Of course, R, and Python do have their limitations. They are not able to address problems specific to some domains. One example is ‘relational database management systems’—there, SQL is king. It was specifically created for that purpose. SQL is at its most advantageous when working with traditional, historical data. When preparing your BI analysis, for instance, you will surely employ it. Okay. When it comes to data science, mentioning MATLAB is inevitable',\n",
       "  'It is ideal for working with mathematical functions or matrix manipulations. That’s why it is present in all categories except for ‘big data’. While respectable, MATLAB usage is a paid service, and that’s one of the reasons why it is losing ground to open-source languages like R and Python. Either way, R, Python, and MATLAB, combined with SQL, cover most of the tools used when working with traditional data, BI, and conventional data science',\n",
       "  'What about big data? Apart from R and Python, people working in this area are often proficient in other languages like Java or Scala. These two have not been developed specifically for doing statistical analyses, however they turn out to be very useful when combining data from multiple sources. All right! Let’s finish off with machine learning. When it comes to machine learning, we often deal with big data',\n",
       "  'Thus, we need a lot of computational power, and we can expect people to use the languages similar to those in the big data column. Apart from R, Python, and MATLAB, other, faster languages are used like Java, JavaScript, C, C++, and Scala. Cool. What we said may be wonderful, but that’s not all! By using one or more programming languages, people create application software or, as they are sometimes called, software solutions, that are adjusted for specific business needs',\n",
       "  'Their smaller scope does not make them less useful, in fact, just the opposite—they are a lot easier to learn and be adopted by others. You have already heard of several of those. Because of its ability to do relatively complex computations and good visualizations quickly, Excel is a tool applicable to more than one category—traditional data, BI, and Data Science. Similarly, SPSS is a very famous tool for working with traditional data and applying statistical analysis',\n",
       "  'Among the many applications we have plotted, we can say there is an increasing amount of software designed for working with big data such as Apache Hadoop, Apache Hbase, and Mongo DB. In terms of big data, Hadoop is the name that must stick with you. Hadoop is listed as a software in the sense that it is a collection of programs, but don’t imagine it as a nice-looking application',\n",
       "  'It’s actually a software framework which was designed to address the complexity of big data and its computational intensity. Most notably, Hadoop distributes the computational tasks on multiple computers which is basically the way to handle big data nowadays. Power BI, SaS, Qlik, and especially Tableau are top-notch examples of software designed for business intelligence visualizations',\n",
       "  'In terms of predictive analytics, EViews is mostly used for working with econometric time-series models, and Stata—for academic statistical and econometric research, where techniques like regression, cluster, and factor analysis are constantly applied. As a final note, remember the following. Should you have the relevant business and theoretical knowledge, learning a software tool is relatively easy as opposed to learning a programming language',\n",
       "  'More importantly, it will be sufficient for your need to create quick and accurate analyses. However, if your theoretical preparation is strong enough, you will find yourself restricted by software. Knowing a programming language such as R and Python, gives you the freedom to create specific, ad-hoc tools for each project you are working on',\n",
       "  'Great! We hope we gave you a good idea about the level of applicability of the most frequently used programming and software tools in the field of data science. Thank you for watching!',\n",
       "  'Difference'],\n",
       " 'uris': None,\n",
       " 'included': ['metadatas', 'documents'],\n",
       " 'data': None,\n",
       " 'metadatas': [{'Lecture Title': 'Analysis vs Analytics'},\n",
       "  {'Lecture Title': 'Analysis vs Analytics'},\n",
       "  {'Lecture Title': 'Analysis vs Analytics'},\n",
       "  {'Lecture Title': 'Analysis vs Analytics'},\n",
       "  {'Lecture Title': 'Analysis vs Analytics'},\n",
       "  {'Lecture Title': 'Analysis vs Analytics'},\n",
       "  {'Lecture Title': 'Analysis vs Analytics'},\n",
       "  {'Lecture Title': 'Analysis vs Analytics'},\n",
       "  {'Lecture Title': 'Programming Languages & Software Employed in Data Science - All the Tools You Need'},\n",
       "  {'Lecture Title': 'Programming Languages & Software Employed in Data Science - All the Tools You Need'},\n",
       "  {'Lecture Title': 'Programming Languages & Software Employed in Data Science - All the Tools You Need'},\n",
       "  {'Lecture Title': 'Programming Languages & Software Employed in Data Science - All the Tools You Need'},\n",
       "  {'Lecture Title': 'Programming Languages & Software Employed in Data Science - All the Tools You Need'},\n",
       "  {'Lecture Title': 'Programming Languages & Software Employed in Data Science - All the Tools You Need'},\n",
       "  {'Lecture Title': 'Programming Languages & Software Employed in Data Science - All the Tools You Need'},\n",
       "  {'Lecture Title': 'Programming Languages & Software Employed in Data Science - All the Tools You Need'},\n",
       "  {'Lecture Title': 'Programming Languages & Software Employed in Data Science - All the Tools You Need'},\n",
       "  {'Lecture Title': 'Programming Languages & Software Employed in Data Science - All the Tools You Need'},\n",
       "  {'Lecture Title': 'Programming Languages & Software Employed in Data Science - All the Tools You Need'},\n",
       "  {'Lecture Title': 'Programming Languages & Software Employed in Data Science - All the Tools You Need'},\n",
       "  None]}"
      ]
     },
     "execution_count": 12,
     "metadata": {},
     "output_type": "execute_result"
    }
   ],
   "source": [
    "vector_store_from_dir.get()"
   ]
  },
  {
   "cell_type": "code",
   "execution_count": 13,
   "id": "5b0f226b",
   "metadata": {},
   "outputs": [
    {
     "data": {
      "text/plain": [
       "{'ids': ['b68ae137-4cee-4c38-84bb-a8147aeb0906'],\n",
       " 'embeddings': None,\n",
       " 'documents': ['Consider the following… You have a huge dataset containing data of various types. Instead of tackling the entire dataset and running the risk of becoming overwhelmed, you separate it into easier to digest chunks and study them individually and examine how they relate to other parts. And that’s analysis in a nutshell. One important thing to remember, however, is that you perform analyses on things that have already happened in the past'],\n",
       " 'uris': None,\n",
       " 'included': ['metadatas', 'documents'],\n",
       " 'data': None,\n",
       " 'metadatas': [{'Lecture Title': 'Analysis vs Analytics'}]}"
      ]
     },
     "execution_count": 13,
     "metadata": {},
     "output_type": "execute_result"
    }
   ],
   "source": [
    "vector_store_from_dir.get(ids=\"b68ae137-4cee-4c38-84bb-a8147aeb0906\")"
   ]
  },
  {
   "cell_type": "code",
   "execution_count": 17,
   "id": "3933722b",
   "metadata": {},
   "outputs": [
    {
     "data": {
      "text/plain": [
       "{'ids': ['b68ae137-4cee-4c38-84bb-a8147aeb0906'],\n",
       " 'embeddings': array([[-0.00141332,  0.00292613,  0.04131164, ...,  0.00855331,\n",
       "         -0.02048619, -0.0012812 ]], shape=(1, 1536)),\n",
       " 'documents': None,\n",
       " 'uris': None,\n",
       " 'included': ['embeddings'],\n",
       " 'data': None,\n",
       " 'metadatas': None}"
      ]
     },
     "execution_count": 17,
     "metadata": {},
     "output_type": "execute_result"
    }
   ],
   "source": [
    "vector_store_from_dir.get(ids=\"b68ae137-4cee-4c38-84bb-a8147aeb0906\", include=[\"embeddings\"])"
   ]
  },
  {
   "cell_type": "markdown",
   "id": "d0856de6",
   "metadata": {},
   "source": [
    "doc added to vectorstore"
   ]
  },
  {
   "cell_type": "code",
   "execution_count": 18,
   "id": "13bcc4e0",
   "metadata": {},
   "outputs": [],
   "source": [
    "added_document = Document(page_content='Alright! So… Let’s discuss the not-so-obvious differences between the terms analysis and analytics. Due to the similarity of the words, some people believe they share the same meaning, and thus use them interchangeably. Technically, this isn’t correct. There is, in fact, a distinct difference between the two. And the reason for one often being used instead of the other is the lack of a transparent understanding of both. So, let’s clear this up, shall we? First, we will start with analysis', \n",
    "                          metadata={'Course Title': 'Introduction to Data and Data Science', \n",
    "                                    'Lecture Title': 'Analysis vs Analytics'})"
   ]
  },
  {
   "cell_type": "code",
   "execution_count": 21,
   "id": "7c4d282e",
   "metadata": {},
   "outputs": [
    {
     "data": {
      "text/plain": [
       "['37d6d7d2-8951-4155-9e42-45261f57865b']"
      ]
     },
     "execution_count": 21,
     "metadata": {},
     "output_type": "execute_result"
    }
   ],
   "source": [
    "vector_store_from_dir.add_documents([added_document])"
   ]
  },
  {
   "cell_type": "code",
   "execution_count": 22,
   "id": "ffd3cd03",
   "metadata": {},
   "outputs": [
    {
     "data": {
      "text/plain": [
       "{'ids': ['37d6d7d2-8951-4155-9e42-45261f57865b'],\n",
       " 'embeddings': None,\n",
       " 'documents': ['Alright! So… Let’s discuss the not-so-obvious differences between the terms analysis and analytics. Due to the similarity of the words, some people believe they share the same meaning, and thus use them interchangeably. Technically, this isn’t correct. There is, in fact, a distinct difference between the two. And the reason for one often being used instead of the other is the lack of a transparent understanding of both. So, let’s clear this up, shall we? First, we will start with analysis'],\n",
       " 'uris': None,\n",
       " 'included': ['metadatas', 'documents'],\n",
       " 'data': None,\n",
       " 'metadatas': [{'Lecture Title': 'Analysis vs Analytics',\n",
       "   'Course Title': 'Introduction to Data and Data Science'}]}"
      ]
     },
     "execution_count": 22,
     "metadata": {},
     "output_type": "execute_result"
    }
   ],
   "source": [
    "vector_store_from_dir.get(\"37d6d7d2-8951-4155-9e42-45261f57865b\")"
   ]
  },
  {
   "cell_type": "code",
   "execution_count": 23,
   "id": "655c4f6e",
   "metadata": {},
   "outputs": [],
   "source": [
    "updated_document = Document(page_content='Great! We hope we gave you a good idea about the level of applicability of the most frequently used programming and software tools in the field of data science. Thank you for watching!', \n",
    "                            metadata={'Course Title': 'Introduction to Data and Data Science', \n",
    "                                     'Lecture Title': 'Programming Languages & Software Employed in Data Science - All the Tools You Need'})"
   ]
  },
  {
   "cell_type": "code",
   "execution_count": 24,
   "id": "5f0df109",
   "metadata": {},
   "outputs": [],
   "source": [
    "vector_store_from_dir.update_document(document_id = \"55409552-1943-4892-949a-3b475ff9c840\", \n",
    "                                           document = updated_document)"
   ]
  },
  {
   "cell_type": "code",
   "execution_count": 25,
   "id": "00a037db",
   "metadata": {},
   "outputs": [
    {
     "data": {
      "text/plain": [
       "{'ids': ['37d6d7d2-8951-4155-9e42-45261f57865b'],\n",
       " 'embeddings': None,\n",
       " 'documents': ['Alright! So… Let’s discuss the not-so-obvious differences between the terms analysis and analytics. Due to the similarity of the words, some people believe they share the same meaning, and thus use them interchangeably. Technically, this isn’t correct. There is, in fact, a distinct difference between the two. And the reason for one often being used instead of the other is the lack of a transparent understanding of both. So, let’s clear this up, shall we? First, we will start with analysis'],\n",
       " 'uris': None,\n",
       " 'included': ['metadatas', 'documents'],\n",
       " 'data': None,\n",
       " 'metadatas': [{'Course Title': 'Introduction to Data and Data Science',\n",
       "   'Lecture Title': 'Analysis vs Analytics'}]}"
      ]
     },
     "execution_count": 25,
     "metadata": {},
     "output_type": "execute_result"
    }
   ],
   "source": [
    "vector_store_from_dir.get(\"37d6d7d2-8951-4155-9e42-45261f57865b\")"
   ]
  },
  {
   "cell_type": "code",
   "execution_count": 26,
   "id": "09377516",
   "metadata": {},
   "outputs": [],
   "source": [
    "vector_store_from_dir.delete(\"37d6d7d2-8951-4155-9e42-45261f57865b\")"
   ]
  },
  {
   "cell_type": "code",
   "execution_count": 27,
   "id": "58fdbf43",
   "metadata": {},
   "outputs": [
    {
     "data": {
      "text/plain": [
       "{'ids': [],\n",
       " 'embeddings': None,\n",
       " 'documents': [],\n",
       " 'uris': None,\n",
       " 'included': ['metadatas', 'documents'],\n",
       " 'data': None,\n",
       " 'metadatas': []}"
      ]
     },
     "execution_count": 27,
     "metadata": {},
     "output_type": "execute_result"
    }
   ],
   "source": [
    "vector_store_from_dir.get(\"37d6d7d2-8951-4155-9e42-45261f57865b\")"
   ]
  },
  {
   "cell_type": "code",
   "execution_count": null,
   "id": "0452c544",
   "metadata": {},
   "outputs": [],
   "source": []
  }
 ],
 "metadata": {
  "kernelspec": {
   "display_name": "myenv",
   "language": "python",
   "name": "python3"
  },
  "language_info": {
   "codemirror_mode": {
    "name": "ipython",
    "version": 3
   },
   "file_extension": ".py",
   "mimetype": "text/x-python",
   "name": "python",
   "nbconvert_exporter": "python",
   "pygments_lexer": "ipython3",
   "version": "3.10.16"
  }
 },
 "nbformat": 4,
 "nbformat_minor": 5
}
